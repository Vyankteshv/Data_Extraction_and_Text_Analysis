{
  "nbformat": 4,
  "nbformat_minor": 0,
  "metadata": {
    "colab": {
      "provenance": [],
      "mount_file_id": "13AyjRRW8nVwDYaaxs3G88T-JNJrEfEFO",
      "authorship_tag": "ABX9TyPazcPG7WYmvKIp3pda6706",
      "include_colab_link": true
    },
    "kernelspec": {
      "name": "python3",
      "display_name": "Python 3"
    },
    "language_info": {
      "name": "python"
    }
  },
  "cells": [
    {
      "cell_type": "markdown",
      "metadata": {
        "id": "view-in-github",
        "colab_type": "text"
      },
      "source": [
        "<a href=\"https://colab.research.google.com/github/Vyankteshv/Data_Extraction_and_Text_Analysis/blob/main/web_scraping_p.ipynb\" target=\"_parent\"><img src=\"https://colab.research.google.com/assets/colab-badge.svg\" alt=\"Open In Colab\"/></a>"
      ]
    },
    {
      "cell_type": "markdown",
      "source": [
        "**Data_Extraction_and_Text_Analysis**"
      ],
      "metadata": {
        "id": "bBwKgurGBJrR"
      }
    },
    {
      "cell_type": "code",
      "execution_count": 2,
      "metadata": {
        "colab": {
          "base_uri": "https://localhost:8080/"
        },
        "id": "-XF4ibJWfPyZ",
        "outputId": "5be71070-24ec-44db-c9b6-5eaf5c195b59"
      },
      "outputs": [
        {
          "output_type": "stream",
          "name": "stderr",
          "text": [
            "[nltk_data] Downloading package punkt to /root/nltk_data...\n",
            "[nltk_data]   Unzipping tokenizers/punkt.zip.\n"
          ]
        },
        {
          "output_type": "execute_result",
          "data": {
            "text/plain": [
              "True"
            ]
          },
          "metadata": {},
          "execution_count": 2
        }
      ],
      "source": [
        "#importing library\n",
        "import pandas as pd\n",
        "import requests\n",
        "from bs4 import BeautifulSoup\n",
        "import numpy as np\n",
        "from google.colab import files\n",
        "import nltk\n",
        "import string\n",
        "nltk.download('punkt')\n"
      ]
    },
    {
      "cell_type": "code",
      "source": [
        "from google.colab import drive\n",
        "drive.mount('/content/drive')"
      ],
      "metadata": {
        "colab": {
          "base_uri": "https://localhost:8080/"
        },
        "id": "tQ7UzFQmfQ9V",
        "outputId": "434a64c3-caab-4da6-d3cf-9f8516db2d56"
      },
      "execution_count": 3,
      "outputs": [
        {
          "output_type": "stream",
          "name": "stdout",
          "text": [
            "Drive already mounted at /content/drive; to attempt to forcibly remount, call drive.mount(\"/content/drive\", force_remount=True).\n"
          ]
        }
      ]
    },
    {
      "cell_type": "code",
      "source": [
        "#importing input file\n",
        "df=pd.read_csv('/content/drive/MyDrive/imp/20211030 Test Assignment/Input.xlsx - Sheet1.csv')[['URL_ID','URL']]"
      ],
      "metadata": {
        "id": "E2VwYRHRmdsY"
      },
      "execution_count": 4,
      "outputs": []
    },
    {
      "cell_type": "code",
      "source": [
        "df=df.iloc[0:150]"
      ],
      "metadata": {
        "id": "DK62ELf3mduq"
      },
      "execution_count": 5,
      "outputs": []
    },
    {
      "cell_type": "code",
      "source": [
        "\n",
        "df"
      ],
      "metadata": {
        "colab": {
          "base_uri": "https://localhost:8080/",
          "height": 423
        },
        "id": "-pKm0upImdxL",
        "outputId": "89c74397-36e8-4ff2-a1ed-914119af471a"
      },
      "execution_count": 6,
      "outputs": [
        {
          "output_type": "execute_result",
          "data": {
            "text/plain": [
              "             URL_ID                                                URL\n",
              "0   blackassign0001  https://insights.blackcoffer.com/rising-it-cit...\n",
              "1   blackassign0002  https://insights.blackcoffer.com/rising-it-cit...\n",
              "2   blackassign0003  https://insights.blackcoffer.com/internet-dema...\n",
              "3   blackassign0004  https://insights.blackcoffer.com/rise-of-cyber...\n",
              "4   blackassign0005  https://insights.blackcoffer.com/ott-platform-...\n",
              "..              ...                                                ...\n",
              "95  blackassign0096  https://insights.blackcoffer.com/what-is-the-r...\n",
              "96  blackassign0097  https://insights.blackcoffer.com/impact-of-cov...\n",
              "97  blackassign0098  https://insights.blackcoffer.com/contribution-...\n",
              "98  blackassign0099  https://insights.blackcoffer.com/how-covid-19-...\n",
              "99  blackassign0100  https://insights.blackcoffer.com/how-will-covi...\n",
              "\n",
              "[100 rows x 2 columns]"
            ],
            "text/html": [
              "\n",
              "  <div id=\"df-aa0af422-78db-411d-b8b8-ba82b867a1a4\" class=\"colab-df-container\">\n",
              "    <div>\n",
              "<style scoped>\n",
              "    .dataframe tbody tr th:only-of-type {\n",
              "        vertical-align: middle;\n",
              "    }\n",
              "\n",
              "    .dataframe tbody tr th {\n",
              "        vertical-align: top;\n",
              "    }\n",
              "\n",
              "    .dataframe thead th {\n",
              "        text-align: right;\n",
              "    }\n",
              "</style>\n",
              "<table border=\"1\" class=\"dataframe\">\n",
              "  <thead>\n",
              "    <tr style=\"text-align: right;\">\n",
              "      <th></th>\n",
              "      <th>URL_ID</th>\n",
              "      <th>URL</th>\n",
              "    </tr>\n",
              "  </thead>\n",
              "  <tbody>\n",
              "    <tr>\n",
              "      <th>0</th>\n",
              "      <td>blackassign0001</td>\n",
              "      <td>https://insights.blackcoffer.com/rising-it-cit...</td>\n",
              "    </tr>\n",
              "    <tr>\n",
              "      <th>1</th>\n",
              "      <td>blackassign0002</td>\n",
              "      <td>https://insights.blackcoffer.com/rising-it-cit...</td>\n",
              "    </tr>\n",
              "    <tr>\n",
              "      <th>2</th>\n",
              "      <td>blackassign0003</td>\n",
              "      <td>https://insights.blackcoffer.com/internet-dema...</td>\n",
              "    </tr>\n",
              "    <tr>\n",
              "      <th>3</th>\n",
              "      <td>blackassign0004</td>\n",
              "      <td>https://insights.blackcoffer.com/rise-of-cyber...</td>\n",
              "    </tr>\n",
              "    <tr>\n",
              "      <th>4</th>\n",
              "      <td>blackassign0005</td>\n",
              "      <td>https://insights.blackcoffer.com/ott-platform-...</td>\n",
              "    </tr>\n",
              "    <tr>\n",
              "      <th>...</th>\n",
              "      <td>...</td>\n",
              "      <td>...</td>\n",
              "    </tr>\n",
              "    <tr>\n",
              "      <th>95</th>\n",
              "      <td>blackassign0096</td>\n",
              "      <td>https://insights.blackcoffer.com/what-is-the-r...</td>\n",
              "    </tr>\n",
              "    <tr>\n",
              "      <th>96</th>\n",
              "      <td>blackassign0097</td>\n",
              "      <td>https://insights.blackcoffer.com/impact-of-cov...</td>\n",
              "    </tr>\n",
              "    <tr>\n",
              "      <th>97</th>\n",
              "      <td>blackassign0098</td>\n",
              "      <td>https://insights.blackcoffer.com/contribution-...</td>\n",
              "    </tr>\n",
              "    <tr>\n",
              "      <th>98</th>\n",
              "      <td>blackassign0099</td>\n",
              "      <td>https://insights.blackcoffer.com/how-covid-19-...</td>\n",
              "    </tr>\n",
              "    <tr>\n",
              "      <th>99</th>\n",
              "      <td>blackassign0100</td>\n",
              "      <td>https://insights.blackcoffer.com/how-will-covi...</td>\n",
              "    </tr>\n",
              "  </tbody>\n",
              "</table>\n",
              "<p>100 rows × 2 columns</p>\n",
              "</div>\n",
              "    <div class=\"colab-df-buttons\">\n",
              "\n",
              "  <div class=\"colab-df-container\">\n",
              "    <button class=\"colab-df-convert\" onclick=\"convertToInteractive('df-aa0af422-78db-411d-b8b8-ba82b867a1a4')\"\n",
              "            title=\"Convert this dataframe to an interactive table.\"\n",
              "            style=\"display:none;\">\n",
              "\n",
              "  <svg xmlns=\"http://www.w3.org/2000/svg\" height=\"24px\" viewBox=\"0 -960 960 960\">\n",
              "    <path d=\"M120-120v-720h720v720H120Zm60-500h600v-160H180v160Zm220 220h160v-160H400v160Zm0 220h160v-160H400v160ZM180-400h160v-160H180v160Zm440 0h160v-160H620v160ZM180-180h160v-160H180v160Zm440 0h160v-160H620v160Z\"/>\n",
              "  </svg>\n",
              "    </button>\n",
              "\n",
              "  <style>\n",
              "    .colab-df-container {\n",
              "      display:flex;\n",
              "      gap: 12px;\n",
              "    }\n",
              "\n",
              "    .colab-df-convert {\n",
              "      background-color: #E8F0FE;\n",
              "      border: none;\n",
              "      border-radius: 50%;\n",
              "      cursor: pointer;\n",
              "      display: none;\n",
              "      fill: #1967D2;\n",
              "      height: 32px;\n",
              "      padding: 0 0 0 0;\n",
              "      width: 32px;\n",
              "    }\n",
              "\n",
              "    .colab-df-convert:hover {\n",
              "      background-color: #E2EBFA;\n",
              "      box-shadow: 0px 1px 2px rgba(60, 64, 67, 0.3), 0px 1px 3px 1px rgba(60, 64, 67, 0.15);\n",
              "      fill: #174EA6;\n",
              "    }\n",
              "\n",
              "    .colab-df-buttons div {\n",
              "      margin-bottom: 4px;\n",
              "    }\n",
              "\n",
              "    [theme=dark] .colab-df-convert {\n",
              "      background-color: #3B4455;\n",
              "      fill: #D2E3FC;\n",
              "    }\n",
              "\n",
              "    [theme=dark] .colab-df-convert:hover {\n",
              "      background-color: #434B5C;\n",
              "      box-shadow: 0px 1px 3px 1px rgba(0, 0, 0, 0.15);\n",
              "      filter: drop-shadow(0px 1px 2px rgba(0, 0, 0, 0.3));\n",
              "      fill: #FFFFFF;\n",
              "    }\n",
              "  </style>\n",
              "\n",
              "    <script>\n",
              "      const buttonEl =\n",
              "        document.querySelector('#df-aa0af422-78db-411d-b8b8-ba82b867a1a4 button.colab-df-convert');\n",
              "      buttonEl.style.display =\n",
              "        google.colab.kernel.accessAllowed ? 'block' : 'none';\n",
              "\n",
              "      async function convertToInteractive(key) {\n",
              "        const element = document.querySelector('#df-aa0af422-78db-411d-b8b8-ba82b867a1a4');\n",
              "        const dataTable =\n",
              "          await google.colab.kernel.invokeFunction('convertToInteractive',\n",
              "                                                    [key], {});\n",
              "        if (!dataTable) return;\n",
              "\n",
              "        const docLinkHtml = 'Like what you see? Visit the ' +\n",
              "          '<a target=\"_blank\" href=https://colab.research.google.com/notebooks/data_table.ipynb>data table notebook</a>'\n",
              "          + ' to learn more about interactive tables.';\n",
              "        element.innerHTML = '';\n",
              "        dataTable['output_type'] = 'display_data';\n",
              "        await google.colab.output.renderOutput(dataTable, element);\n",
              "        const docLink = document.createElement('div');\n",
              "        docLink.innerHTML = docLinkHtml;\n",
              "        element.appendChild(docLink);\n",
              "      }\n",
              "    </script>\n",
              "  </div>\n",
              "\n",
              "\n",
              "<div id=\"df-6f78ecc6-81c7-4ee0-8159-861212449a83\">\n",
              "  <button class=\"colab-df-quickchart\" onclick=\"quickchart('df-6f78ecc6-81c7-4ee0-8159-861212449a83')\"\n",
              "            title=\"Suggest charts\"\n",
              "            style=\"display:none;\">\n",
              "\n",
              "<svg xmlns=\"http://www.w3.org/2000/svg\" height=\"24px\"viewBox=\"0 0 24 24\"\n",
              "     width=\"24px\">\n",
              "    <g>\n",
              "        <path d=\"M19 3H5c-1.1 0-2 .9-2 2v14c0 1.1.9 2 2 2h14c1.1 0 2-.9 2-2V5c0-1.1-.9-2-2-2zM9 17H7v-7h2v7zm4 0h-2V7h2v10zm4 0h-2v-4h2v4z\"/>\n",
              "    </g>\n",
              "</svg>\n",
              "  </button>\n",
              "\n",
              "<style>\n",
              "  .colab-df-quickchart {\n",
              "      --bg-color: #E8F0FE;\n",
              "      --fill-color: #1967D2;\n",
              "      --hover-bg-color: #E2EBFA;\n",
              "      --hover-fill-color: #174EA6;\n",
              "      --disabled-fill-color: #AAA;\n",
              "      --disabled-bg-color: #DDD;\n",
              "  }\n",
              "\n",
              "  [theme=dark] .colab-df-quickchart {\n",
              "      --bg-color: #3B4455;\n",
              "      --fill-color: #D2E3FC;\n",
              "      --hover-bg-color: #434B5C;\n",
              "      --hover-fill-color: #FFFFFF;\n",
              "      --disabled-bg-color: #3B4455;\n",
              "      --disabled-fill-color: #666;\n",
              "  }\n",
              "\n",
              "  .colab-df-quickchart {\n",
              "    background-color: var(--bg-color);\n",
              "    border: none;\n",
              "    border-radius: 50%;\n",
              "    cursor: pointer;\n",
              "    display: none;\n",
              "    fill: var(--fill-color);\n",
              "    height: 32px;\n",
              "    padding: 0;\n",
              "    width: 32px;\n",
              "  }\n",
              "\n",
              "  .colab-df-quickchart:hover {\n",
              "    background-color: var(--hover-bg-color);\n",
              "    box-shadow: 0 1px 2px rgba(60, 64, 67, 0.3), 0 1px 3px 1px rgba(60, 64, 67, 0.15);\n",
              "    fill: var(--button-hover-fill-color);\n",
              "  }\n",
              "\n",
              "  .colab-df-quickchart-complete:disabled,\n",
              "  .colab-df-quickchart-complete:disabled:hover {\n",
              "    background-color: var(--disabled-bg-color);\n",
              "    fill: var(--disabled-fill-color);\n",
              "    box-shadow: none;\n",
              "  }\n",
              "\n",
              "  .colab-df-spinner {\n",
              "    border: 2px solid var(--fill-color);\n",
              "    border-color: transparent;\n",
              "    border-bottom-color: var(--fill-color);\n",
              "    animation:\n",
              "      spin 1s steps(1) infinite;\n",
              "  }\n",
              "\n",
              "  @keyframes spin {\n",
              "    0% {\n",
              "      border-color: transparent;\n",
              "      border-bottom-color: var(--fill-color);\n",
              "      border-left-color: var(--fill-color);\n",
              "    }\n",
              "    20% {\n",
              "      border-color: transparent;\n",
              "      border-left-color: var(--fill-color);\n",
              "      border-top-color: var(--fill-color);\n",
              "    }\n",
              "    30% {\n",
              "      border-color: transparent;\n",
              "      border-left-color: var(--fill-color);\n",
              "      border-top-color: var(--fill-color);\n",
              "      border-right-color: var(--fill-color);\n",
              "    }\n",
              "    40% {\n",
              "      border-color: transparent;\n",
              "      border-right-color: var(--fill-color);\n",
              "      border-top-color: var(--fill-color);\n",
              "    }\n",
              "    60% {\n",
              "      border-color: transparent;\n",
              "      border-right-color: var(--fill-color);\n",
              "    }\n",
              "    80% {\n",
              "      border-color: transparent;\n",
              "      border-right-color: var(--fill-color);\n",
              "      border-bottom-color: var(--fill-color);\n",
              "    }\n",
              "    90% {\n",
              "      border-color: transparent;\n",
              "      border-bottom-color: var(--fill-color);\n",
              "    }\n",
              "  }\n",
              "</style>\n",
              "\n",
              "  <script>\n",
              "    async function quickchart(key) {\n",
              "      const quickchartButtonEl =\n",
              "        document.querySelector('#' + key + ' button');\n",
              "      quickchartButtonEl.disabled = true;  // To prevent multiple clicks.\n",
              "      quickchartButtonEl.classList.add('colab-df-spinner');\n",
              "      try {\n",
              "        const charts = await google.colab.kernel.invokeFunction(\n",
              "            'suggestCharts', [key], {});\n",
              "      } catch (error) {\n",
              "        console.error('Error during call to suggestCharts:', error);\n",
              "      }\n",
              "      quickchartButtonEl.classList.remove('colab-df-spinner');\n",
              "      quickchartButtonEl.classList.add('colab-df-quickchart-complete');\n",
              "    }\n",
              "    (() => {\n",
              "      let quickchartButtonEl =\n",
              "        document.querySelector('#df-6f78ecc6-81c7-4ee0-8159-861212449a83 button');\n",
              "      quickchartButtonEl.style.display =\n",
              "        google.colab.kernel.accessAllowed ? 'block' : 'none';\n",
              "    })();\n",
              "  </script>\n",
              "</div>\n",
              "\n",
              "  <div id=\"id_e2829133-44ac-4682-9717-19570b652a3a\">\n",
              "    <style>\n",
              "      .colab-df-generate {\n",
              "        background-color: #E8F0FE;\n",
              "        border: none;\n",
              "        border-radius: 50%;\n",
              "        cursor: pointer;\n",
              "        display: none;\n",
              "        fill: #1967D2;\n",
              "        height: 32px;\n",
              "        padding: 0 0 0 0;\n",
              "        width: 32px;\n",
              "      }\n",
              "\n",
              "      .colab-df-generate:hover {\n",
              "        background-color: #E2EBFA;\n",
              "        box-shadow: 0px 1px 2px rgba(60, 64, 67, 0.3), 0px 1px 3px 1px rgba(60, 64, 67, 0.15);\n",
              "        fill: #174EA6;\n",
              "      }\n",
              "\n",
              "      [theme=dark] .colab-df-generate {\n",
              "        background-color: #3B4455;\n",
              "        fill: #D2E3FC;\n",
              "      }\n",
              "\n",
              "      [theme=dark] .colab-df-generate:hover {\n",
              "        background-color: #434B5C;\n",
              "        box-shadow: 0px 1px 3px 1px rgba(0, 0, 0, 0.15);\n",
              "        filter: drop-shadow(0px 1px 2px rgba(0, 0, 0, 0.3));\n",
              "        fill: #FFFFFF;\n",
              "      }\n",
              "    </style>\n",
              "    <button class=\"colab-df-generate\" onclick=\"generateWithVariable('df')\"\n",
              "            title=\"Generate code using this dataframe.\"\n",
              "            style=\"display:none;\">\n",
              "\n",
              "  <svg xmlns=\"http://www.w3.org/2000/svg\" height=\"24px\"viewBox=\"0 0 24 24\"\n",
              "       width=\"24px\">\n",
              "    <path d=\"M7,19H8.4L18.45,9,17,7.55,7,17.6ZM5,21V16.75L18.45,3.32a2,2,0,0,1,2.83,0l1.4,1.43a1.91,1.91,0,0,1,.58,1.4,1.91,1.91,0,0,1-.58,1.4L9.25,21ZM18.45,9,17,7.55Zm-12,3A5.31,5.31,0,0,0,4.9,8.1,5.31,5.31,0,0,0,1,6.5,5.31,5.31,0,0,0,4.9,4.9,5.31,5.31,0,0,0,6.5,1,5.31,5.31,0,0,0,8.1,4.9,5.31,5.31,0,0,0,12,6.5,5.46,5.46,0,0,0,6.5,12Z\"/>\n",
              "  </svg>\n",
              "    </button>\n",
              "    <script>\n",
              "      (() => {\n",
              "      const buttonEl =\n",
              "        document.querySelector('#id_e2829133-44ac-4682-9717-19570b652a3a button.colab-df-generate');\n",
              "      buttonEl.style.display =\n",
              "        google.colab.kernel.accessAllowed ? 'block' : 'none';\n",
              "\n",
              "      buttonEl.onclick = () => {\n",
              "        google.colab.notebook.generateWithVariable('df');\n",
              "      }\n",
              "      })();\n",
              "    </script>\n",
              "  </div>\n",
              "\n",
              "    </div>\n",
              "  </div>\n"
            ],
            "application/vnd.google.colaboratory.intrinsic+json": {
              "type": "dataframe",
              "variable_name": "df",
              "summary": "{\n  \"name\": \"df\",\n  \"rows\": 100,\n  \"fields\": [\n    {\n      \"column\": \"URL_ID\",\n      \"properties\": {\n        \"dtype\": \"string\",\n        \"num_unique_values\": 100,\n        \"samples\": [\n          \"blackassign0084\",\n          \"blackassign0054\",\n          \"blackassign0071\"\n        ],\n        \"semantic_type\": \"\",\n        \"description\": \"\"\n      }\n    },\n    {\n      \"column\": \"URL\",\n      \"properties\": {\n        \"dtype\": \"string\",\n        \"num_unique_values\": 100,\n        \"samples\": [\n          \"https://insights.blackcoffer.com/how-voice-search-makes-your-business-a-successful-business/\",\n          \"https://insights.blackcoffer.com/how-google-fit-measure-heart-and-respiratory-rates-using-a-phone/\",\n          \"https://insights.blackcoffer.com/how-to-overcome-your-fear-of-making-mistakes-2/\"\n        ],\n        \"semantic_type\": \"\",\n        \"description\": \"\"\n      }\n    }\n  ]\n}"
            }
          },
          "metadata": {},
          "execution_count": 6
        }
      ]
    },
    {
      "cell_type": "code",
      "source": [
        "df.drop('URL_ID',axis=1,inplace=True)"
      ],
      "metadata": {
        "id": "WXx-DvpsmdzI"
      },
      "execution_count": 7,
      "outputs": []
    },
    {
      "cell_type": "markdown",
      "source": [
        "\n",
        "Data extraction"
      ],
      "metadata": {
        "id": "_5bd9c9p-2Z4"
      }
    },
    {
      "cell_type": "code",
      "source": [
        "# prompt: #extracting text from all the url\n",
        "# url_id=1\n",
        "# for i in range(0,len(df)):\n",
        "#    j=df.iloc[i].values\n",
        "#    headers={'User-Agent': 'Mozilla/5.0 (Windows NT 10.0; Win64; x64) AppleWebKit/537.36 (KHTML, like Gecko) Chrome/74.0.3729.169 Safari/537.36'}#giving user access\n",
        "#    page=requests.get(j[0],headers=headers)#loading text in url\n",
        "#    soup=BeautifulSoup(page.content,'html.parser')#parsing url text\n",
        "#    cont\n",
        "\n",
        "#extracting text from all the url\n",
        "url_id=1\n",
        "for i in range(0,len(df)):\n",
        "   j=df.iloc[i].values\n",
        "   headers={'User-Agent': 'Mozilla/5.0 (Windows NT 10.0; Win64; x64) AppleWebKit/537.36 (KHTML, like Gecko) Chrome/74.0.3729.169 Safari/537.36'}#giving user access\n",
        "   page=requests.get(j[0],headers=headers)#loading text in url\n",
        "   soup=BeautifulSoup(page.content,'html.parser')#parsing url text\n",
        "   text = soup.get_text()#extracting text from url\n",
        "   #cleaning text\n",
        "   text = text.lower()\n",
        "   text = \"\".join([word for word in text if word not in string.punctuation])\n",
        "   text = text.split()\n",
        "   text = \" \".join(text)\n",
        "   #writing data to output file\n",
        "   with open(\"/content/drive/MyDrive/imp/20211030 Test Assignment/Output.csv\", 'a') as f:\n",
        "      f.write(text + \"\\n\")\n",
        "   url_id+=1\n"
      ],
      "metadata": {
        "id": "JcrgNyyprU3S"
      },
      "execution_count": 8,
      "outputs": []
    },
    {
      "cell_type": "code",
      "source": [
        "#importing each extracted files\n",
        "text=pd.read_csv(\"/content/drive/MyDrive/imp/20211030 Test Assignment/Output.csv\",header=None)\n",
        ""
      ],
      "metadata": {
        "id": "QyiSrEN5rVHD"
      },
      "execution_count": 16,
      "outputs": []
    },
    {
      "cell_type": "markdown",
      "source": [
        "\n",
        "Data analysis"
      ],
      "metadata": {
        "id": "PAGHuSpP-5xf"
      }
    },
    {
      "cell_type": "markdown",
      "source": [],
      "metadata": {
        "id": "i_jaFIqgA89c"
      }
    },
    {
      "cell_type": "code",
      "source": [
        "text"
      ],
      "metadata": {
        "id": "6DFmEIjKrVJT",
        "colab": {
          "base_uri": "https://localhost:8080/",
          "height": 423
        },
        "outputId": "8ca11805-782f-4d89-d282-985034e32823"
      },
      "execution_count": 17,
      "outputs": [
        {
          "output_type": "execute_result",
          "data": {
            "text/plain": [
              "                                                     0\n",
              "0    rising it cities and its impact on the economy...\n",
              "1    rising it cities and their impact on the econo...\n",
              "2    internet demands evolution communication impac...\n",
              "3    rise of cybercrime and its effect in upcoming ...\n",
              "4    ott platform and its impact on the entertainme...\n",
              "..                                                 ...\n",
              "195  due to the covid19 the repercussion of the env...\n",
              "196  impact of covid19 pandemic on office space and...\n",
              "197  contribution of handicrafts visual arts litera...\n",
              "198  how covid19 is impacting payment preferences b...\n",
              "199  how will covid19 affect the world of work blac...\n",
              "\n",
              "[200 rows x 1 columns]"
            ],
            "text/html": [
              "\n",
              "  <div id=\"df-cc395fbf-9cca-4748-96f8-cc1cca7f539f\" class=\"colab-df-container\">\n",
              "    <div>\n",
              "<style scoped>\n",
              "    .dataframe tbody tr th:only-of-type {\n",
              "        vertical-align: middle;\n",
              "    }\n",
              "\n",
              "    .dataframe tbody tr th {\n",
              "        vertical-align: top;\n",
              "    }\n",
              "\n",
              "    .dataframe thead th {\n",
              "        text-align: right;\n",
              "    }\n",
              "</style>\n",
              "<table border=\"1\" class=\"dataframe\">\n",
              "  <thead>\n",
              "    <tr style=\"text-align: right;\">\n",
              "      <th></th>\n",
              "      <th>0</th>\n",
              "    </tr>\n",
              "  </thead>\n",
              "  <tbody>\n",
              "    <tr>\n",
              "      <th>0</th>\n",
              "      <td>rising it cities and its impact on the economy...</td>\n",
              "    </tr>\n",
              "    <tr>\n",
              "      <th>1</th>\n",
              "      <td>rising it cities and their impact on the econo...</td>\n",
              "    </tr>\n",
              "    <tr>\n",
              "      <th>2</th>\n",
              "      <td>internet demands evolution communication impac...</td>\n",
              "    </tr>\n",
              "    <tr>\n",
              "      <th>3</th>\n",
              "      <td>rise of cybercrime and its effect in upcoming ...</td>\n",
              "    </tr>\n",
              "    <tr>\n",
              "      <th>4</th>\n",
              "      <td>ott platform and its impact on the entertainme...</td>\n",
              "    </tr>\n",
              "    <tr>\n",
              "      <th>...</th>\n",
              "      <td>...</td>\n",
              "    </tr>\n",
              "    <tr>\n",
              "      <th>195</th>\n",
              "      <td>due to the covid19 the repercussion of the env...</td>\n",
              "    </tr>\n",
              "    <tr>\n",
              "      <th>196</th>\n",
              "      <td>impact of covid19 pandemic on office space and...</td>\n",
              "    </tr>\n",
              "    <tr>\n",
              "      <th>197</th>\n",
              "      <td>contribution of handicrafts visual arts litera...</td>\n",
              "    </tr>\n",
              "    <tr>\n",
              "      <th>198</th>\n",
              "      <td>how covid19 is impacting payment preferences b...</td>\n",
              "    </tr>\n",
              "    <tr>\n",
              "      <th>199</th>\n",
              "      <td>how will covid19 affect the world of work blac...</td>\n",
              "    </tr>\n",
              "  </tbody>\n",
              "</table>\n",
              "<p>200 rows × 1 columns</p>\n",
              "</div>\n",
              "    <div class=\"colab-df-buttons\">\n",
              "\n",
              "  <div class=\"colab-df-container\">\n",
              "    <button class=\"colab-df-convert\" onclick=\"convertToInteractive('df-cc395fbf-9cca-4748-96f8-cc1cca7f539f')\"\n",
              "            title=\"Convert this dataframe to an interactive table.\"\n",
              "            style=\"display:none;\">\n",
              "\n",
              "  <svg xmlns=\"http://www.w3.org/2000/svg\" height=\"24px\" viewBox=\"0 -960 960 960\">\n",
              "    <path d=\"M120-120v-720h720v720H120Zm60-500h600v-160H180v160Zm220 220h160v-160H400v160Zm0 220h160v-160H400v160ZM180-400h160v-160H180v160Zm440 0h160v-160H620v160ZM180-180h160v-160H180v160Zm440 0h160v-160H620v160Z\"/>\n",
              "  </svg>\n",
              "    </button>\n",
              "\n",
              "  <style>\n",
              "    .colab-df-container {\n",
              "      display:flex;\n",
              "      gap: 12px;\n",
              "    }\n",
              "\n",
              "    .colab-df-convert {\n",
              "      background-color: #E8F0FE;\n",
              "      border: none;\n",
              "      border-radius: 50%;\n",
              "      cursor: pointer;\n",
              "      display: none;\n",
              "      fill: #1967D2;\n",
              "      height: 32px;\n",
              "      padding: 0 0 0 0;\n",
              "      width: 32px;\n",
              "    }\n",
              "\n",
              "    .colab-df-convert:hover {\n",
              "      background-color: #E2EBFA;\n",
              "      box-shadow: 0px 1px 2px rgba(60, 64, 67, 0.3), 0px 1px 3px 1px rgba(60, 64, 67, 0.15);\n",
              "      fill: #174EA6;\n",
              "    }\n",
              "\n",
              "    .colab-df-buttons div {\n",
              "      margin-bottom: 4px;\n",
              "    }\n",
              "\n",
              "    [theme=dark] .colab-df-convert {\n",
              "      background-color: #3B4455;\n",
              "      fill: #D2E3FC;\n",
              "    }\n",
              "\n",
              "    [theme=dark] .colab-df-convert:hover {\n",
              "      background-color: #434B5C;\n",
              "      box-shadow: 0px 1px 3px 1px rgba(0, 0, 0, 0.15);\n",
              "      filter: drop-shadow(0px 1px 2px rgba(0, 0, 0, 0.3));\n",
              "      fill: #FFFFFF;\n",
              "    }\n",
              "  </style>\n",
              "\n",
              "    <script>\n",
              "      const buttonEl =\n",
              "        document.querySelector('#df-cc395fbf-9cca-4748-96f8-cc1cca7f539f button.colab-df-convert');\n",
              "      buttonEl.style.display =\n",
              "        google.colab.kernel.accessAllowed ? 'block' : 'none';\n",
              "\n",
              "      async function convertToInteractive(key) {\n",
              "        const element = document.querySelector('#df-cc395fbf-9cca-4748-96f8-cc1cca7f539f');\n",
              "        const dataTable =\n",
              "          await google.colab.kernel.invokeFunction('convertToInteractive',\n",
              "                                                    [key], {});\n",
              "        if (!dataTable) return;\n",
              "\n",
              "        const docLinkHtml = 'Like what you see? Visit the ' +\n",
              "          '<a target=\"_blank\" href=https://colab.research.google.com/notebooks/data_table.ipynb>data table notebook</a>'\n",
              "          + ' to learn more about interactive tables.';\n",
              "        element.innerHTML = '';\n",
              "        dataTable['output_type'] = 'display_data';\n",
              "        await google.colab.output.renderOutput(dataTable, element);\n",
              "        const docLink = document.createElement('div');\n",
              "        docLink.innerHTML = docLinkHtml;\n",
              "        element.appendChild(docLink);\n",
              "      }\n",
              "    </script>\n",
              "  </div>\n",
              "\n",
              "\n",
              "<div id=\"df-5eb2e13a-1704-4d06-a6a0-2b2e16e0c293\">\n",
              "  <button class=\"colab-df-quickchart\" onclick=\"quickchart('df-5eb2e13a-1704-4d06-a6a0-2b2e16e0c293')\"\n",
              "            title=\"Suggest charts\"\n",
              "            style=\"display:none;\">\n",
              "\n",
              "<svg xmlns=\"http://www.w3.org/2000/svg\" height=\"24px\"viewBox=\"0 0 24 24\"\n",
              "     width=\"24px\">\n",
              "    <g>\n",
              "        <path d=\"M19 3H5c-1.1 0-2 .9-2 2v14c0 1.1.9 2 2 2h14c1.1 0 2-.9 2-2V5c0-1.1-.9-2-2-2zM9 17H7v-7h2v7zm4 0h-2V7h2v10zm4 0h-2v-4h2v4z\"/>\n",
              "    </g>\n",
              "</svg>\n",
              "  </button>\n",
              "\n",
              "<style>\n",
              "  .colab-df-quickchart {\n",
              "      --bg-color: #E8F0FE;\n",
              "      --fill-color: #1967D2;\n",
              "      --hover-bg-color: #E2EBFA;\n",
              "      --hover-fill-color: #174EA6;\n",
              "      --disabled-fill-color: #AAA;\n",
              "      --disabled-bg-color: #DDD;\n",
              "  }\n",
              "\n",
              "  [theme=dark] .colab-df-quickchart {\n",
              "      --bg-color: #3B4455;\n",
              "      --fill-color: #D2E3FC;\n",
              "      --hover-bg-color: #434B5C;\n",
              "      --hover-fill-color: #FFFFFF;\n",
              "      --disabled-bg-color: #3B4455;\n",
              "      --disabled-fill-color: #666;\n",
              "  }\n",
              "\n",
              "  .colab-df-quickchart {\n",
              "    background-color: var(--bg-color);\n",
              "    border: none;\n",
              "    border-radius: 50%;\n",
              "    cursor: pointer;\n",
              "    display: none;\n",
              "    fill: var(--fill-color);\n",
              "    height: 32px;\n",
              "    padding: 0;\n",
              "    width: 32px;\n",
              "  }\n",
              "\n",
              "  .colab-df-quickchart:hover {\n",
              "    background-color: var(--hover-bg-color);\n",
              "    box-shadow: 0 1px 2px rgba(60, 64, 67, 0.3), 0 1px 3px 1px rgba(60, 64, 67, 0.15);\n",
              "    fill: var(--button-hover-fill-color);\n",
              "  }\n",
              "\n",
              "  .colab-df-quickchart-complete:disabled,\n",
              "  .colab-df-quickchart-complete:disabled:hover {\n",
              "    background-color: var(--disabled-bg-color);\n",
              "    fill: var(--disabled-fill-color);\n",
              "    box-shadow: none;\n",
              "  }\n",
              "\n",
              "  .colab-df-spinner {\n",
              "    border: 2px solid var(--fill-color);\n",
              "    border-color: transparent;\n",
              "    border-bottom-color: var(--fill-color);\n",
              "    animation:\n",
              "      spin 1s steps(1) infinite;\n",
              "  }\n",
              "\n",
              "  @keyframes spin {\n",
              "    0% {\n",
              "      border-color: transparent;\n",
              "      border-bottom-color: var(--fill-color);\n",
              "      border-left-color: var(--fill-color);\n",
              "    }\n",
              "    20% {\n",
              "      border-color: transparent;\n",
              "      border-left-color: var(--fill-color);\n",
              "      border-top-color: var(--fill-color);\n",
              "    }\n",
              "    30% {\n",
              "      border-color: transparent;\n",
              "      border-left-color: var(--fill-color);\n",
              "      border-top-color: var(--fill-color);\n",
              "      border-right-color: var(--fill-color);\n",
              "    }\n",
              "    40% {\n",
              "      border-color: transparent;\n",
              "      border-right-color: var(--fill-color);\n",
              "      border-top-color: var(--fill-color);\n",
              "    }\n",
              "    60% {\n",
              "      border-color: transparent;\n",
              "      border-right-color: var(--fill-color);\n",
              "    }\n",
              "    80% {\n",
              "      border-color: transparent;\n",
              "      border-right-color: var(--fill-color);\n",
              "      border-bottom-color: var(--fill-color);\n",
              "    }\n",
              "    90% {\n",
              "      border-color: transparent;\n",
              "      border-bottom-color: var(--fill-color);\n",
              "    }\n",
              "  }\n",
              "</style>\n",
              "\n",
              "  <script>\n",
              "    async function quickchart(key) {\n",
              "      const quickchartButtonEl =\n",
              "        document.querySelector('#' + key + ' button');\n",
              "      quickchartButtonEl.disabled = true;  // To prevent multiple clicks.\n",
              "      quickchartButtonEl.classList.add('colab-df-spinner');\n",
              "      try {\n",
              "        const charts = await google.colab.kernel.invokeFunction(\n",
              "            'suggestCharts', [key], {});\n",
              "      } catch (error) {\n",
              "        console.error('Error during call to suggestCharts:', error);\n",
              "      }\n",
              "      quickchartButtonEl.classList.remove('colab-df-spinner');\n",
              "      quickchartButtonEl.classList.add('colab-df-quickchart-complete');\n",
              "    }\n",
              "    (() => {\n",
              "      let quickchartButtonEl =\n",
              "        document.querySelector('#df-5eb2e13a-1704-4d06-a6a0-2b2e16e0c293 button');\n",
              "      quickchartButtonEl.style.display =\n",
              "        google.colab.kernel.accessAllowed ? 'block' : 'none';\n",
              "    })();\n",
              "  </script>\n",
              "</div>\n",
              "\n",
              "  <div id=\"id_fd6212a6-8a72-46f8-be2d-6ebeec9024ac\">\n",
              "    <style>\n",
              "      .colab-df-generate {\n",
              "        background-color: #E8F0FE;\n",
              "        border: none;\n",
              "        border-radius: 50%;\n",
              "        cursor: pointer;\n",
              "        display: none;\n",
              "        fill: #1967D2;\n",
              "        height: 32px;\n",
              "        padding: 0 0 0 0;\n",
              "        width: 32px;\n",
              "      }\n",
              "\n",
              "      .colab-df-generate:hover {\n",
              "        background-color: #E2EBFA;\n",
              "        box-shadow: 0px 1px 2px rgba(60, 64, 67, 0.3), 0px 1px 3px 1px rgba(60, 64, 67, 0.15);\n",
              "        fill: #174EA6;\n",
              "      }\n",
              "\n",
              "      [theme=dark] .colab-df-generate {\n",
              "        background-color: #3B4455;\n",
              "        fill: #D2E3FC;\n",
              "      }\n",
              "\n",
              "      [theme=dark] .colab-df-generate:hover {\n",
              "        background-color: #434B5C;\n",
              "        box-shadow: 0px 1px 3px 1px rgba(0, 0, 0, 0.15);\n",
              "        filter: drop-shadow(0px 1px 2px rgba(0, 0, 0, 0.3));\n",
              "        fill: #FFFFFF;\n",
              "      }\n",
              "    </style>\n",
              "    <button class=\"colab-df-generate\" onclick=\"generateWithVariable('text')\"\n",
              "            title=\"Generate code using this dataframe.\"\n",
              "            style=\"display:none;\">\n",
              "\n",
              "  <svg xmlns=\"http://www.w3.org/2000/svg\" height=\"24px\"viewBox=\"0 0 24 24\"\n",
              "       width=\"24px\">\n",
              "    <path d=\"M7,19H8.4L18.45,9,17,7.55,7,17.6ZM5,21V16.75L18.45,3.32a2,2,0,0,1,2.83,0l1.4,1.43a1.91,1.91,0,0,1,.58,1.4,1.91,1.91,0,0,1-.58,1.4L9.25,21ZM18.45,9,17,7.55Zm-12,3A5.31,5.31,0,0,0,4.9,8.1,5.31,5.31,0,0,0,1,6.5,5.31,5.31,0,0,0,4.9,4.9,5.31,5.31,0,0,0,6.5,1,5.31,5.31,0,0,0,8.1,4.9,5.31,5.31,0,0,0,12,6.5,5.46,5.46,0,0,0,6.5,12Z\"/>\n",
              "  </svg>\n",
              "    </button>\n",
              "    <script>\n",
              "      (() => {\n",
              "      const buttonEl =\n",
              "        document.querySelector('#id_fd6212a6-8a72-46f8-be2d-6ebeec9024ac button.colab-df-generate');\n",
              "      buttonEl.style.display =\n",
              "        google.colab.kernel.accessAllowed ? 'block' : 'none';\n",
              "\n",
              "      buttonEl.onclick = () => {\n",
              "        google.colab.notebook.generateWithVariable('text');\n",
              "      }\n",
              "      })();\n",
              "    </script>\n",
              "  </div>\n",
              "\n",
              "    </div>\n",
              "  </div>\n"
            ],
            "application/vnd.google.colaboratory.intrinsic+json": {
              "type": "dataframe",
              "variable_name": "text",
              "summary": "{\n  \"name\": \"text\",\n  \"rows\": 200,\n  \"fields\": [\n    {\n      \"column\": 0,\n      \"properties\": {\n        \"dtype\": \"string\",\n        \"num_unique_values\": 198,\n        \"samples\": [\n          \"why does your business need a chatbot blackcoffer insights sign in our success stories banking financials securities and insurance energy entertainment fast moving consumer goods government think tanks healthcare infrastructure real estate it lifestyle ecommerce online market place production manufacturing research academia retail supply chain telecom what we do banking financials securities and insurance energy entertainment fast moving consumer goods government think tanks healthcare hospitality infrastructure real estate it services lifestyle ecommerce online market place news media production manufacturing research academia retail supply chain what we think automobiles components bfsi asset and portfolio banks capital markets derivatives and securities diversified financials finance accounting insurance securities and capital markets capital goods commercial professional services consumer discretionary consumer durables apparel consumer services consumer staples food staples retailing food beverage tobacco household personal products data science analytics artificial intelligence big data business analytics data visualization internet of things machine learning statistics energy dataoil how to analytics application development artificial intelligence business analytics example optimization projects software development source code audit statistics web mobile app development schedule demo contact sign in welcomelog into your account your username your password forgot your password password recovery recover your password your email search sign in welcome log into your account your username your password forgot your password get help password recovery recover your password your email a password will be emailed to you friday may 31 2024 sign in join our success stories what we do what we think how to schedule demo contact facebooklinkedintwitteryoutube our success stories allbanking financials securities and insuranceenergyentertainmentfast moving consumer goodsgovernment think tankshealthcareinfrastructure real estateitlifestyle ecommerce online market placeproduction manufacturingresearch academia our success stories efficient supply chain assessment overcoming technical hurdles for web application development march 17 2024 our success stories streamlined integration interactive brokers api with python for desktop trading application march 17 2024 our success stories efficient data integration and userfriendly interface development navigating challenges in web application deployment march 17 2024 our success stories effective management of social media data extraction strategies for authentication security and reliability march 17 2024 what we do allbanking financials securities and insuranceenergyentertainmentfast moving consumer goodsgovernment think tankshealthcarehospitalityinfrastructure real estateit serviceslifestyle ecommerce online market placenews media what we do ai bot audio to audio april 3 2024 what we do methodology for etl discovery tool using llma openai langchain february 27 2024 what we do methodology for database discovery tool using openai llma langchain february 27 2024 what we do chatbot using voiceflow february 15 2024 what we think allautomobiles componentsbfsiasset and portfoliobankscapital marketsderivatives and securitiesdiversified financialsfinance accountinginsurancesecurities and capital marketscapital goods what we think rising it cities and its impact on the economy environment infrastructure and city life by the year 2040 august 24 2023 what we think rising it cities and their impact on the economy environment infrastructure and city life in future august 18 2023 what we think internet demand\\u2019s evolution communication impact and 2035\\u2019s alternative pathways august 18 2023 what we think rise of cybercrime and its effect in upcoming future august 18 2023 how to allanalyticsapplication developmentartificial intelligencebusiness analyticsexampleoptimizationprojectssoftware developmentsource code auditstatisticsweb mobile app development what we do aiml and predictive modeling february 3 2022 blackcoffer solution for contact centre problems april 26 2021 how to how to setup custom domain for google app engine application february 13 2021 how to code review checklist april 10 2020 schedule demo contact search home what we think why does your business need a chatbot data scienceartificial intelligenceblackcofferwhat we think why does your business need a chatbot by ajay bidyarthy september 22 2020 19663 mr sakamoto is a bonsai artist lives downtown kyoto japan bonsai is a japanese art form that is the cultivation of small trees in a small or medium container he is in this field of business for the last ten years and he loves what he does on a daily basis people from different cities in japan come to buy his artwork but in the early stage of his business he was just another regular bosai artist his popularity has increased because of the stories he tells for every art he is selling his customer immediately loved him for this while buying a bonsai art he loved to sell his customer with his artwork and a story related to that product which resurrects his presence through his art in customers soon enough his business thrived and nowadays he is always busy after the digital revolution although his sales increased he was not happy he was not satisfied something is eating up his mind day by day he could not understand what\\u2019s the reason behind his remorse a chatbot is an awesome invention of the digital revolution it is the reallife embodiment of customer engagement every business needs this feature will be an understatement because customer engagement is the base of any business the chatbot does the exact thing digitally it helps customers to answer the queries and tell about the product that the business has to offer is a fully automated way with vibrant customizations mr sakamoto is running his business for the last fifteen years now and now he is happy that he was not for the past couple of years the rationale behind his happiness is the chatbot though he has a website and app to sell his bonsai art he could not engage with the customers in the way he wanted to he has trained his employees and apprentices but they are not providing the same service in the way he does he was unsatisfied and the chatbot relives him from his sadness he has done all that at affordable prices in no time let\\u2019s understand the mr sakamoto\\u2019s \\u201cmondai nai\\u201d perspective about why chatbot is the answer of his problems building the trust with customers this is the fundamental and root cause for which mr sakamoto has to implement the chatbot in the first place his stories are embedded with each art the product which he sells needs this story to be with it his stories which were not been told to all the customers before are now sharing with this chatbot and building the trust between them we all can agree on this one statement that trust is the most impactful aspect maybe the best of aspects in the relation between any customer and businessowner whether the business is small medium or large target the millennial customer millennials a word that was not introduced before 1990 the generation which is stuck in between genx and geny a generation of people accustomed to both digitization and old culture they are the most targeted audience in this era what else would be more approachable to this generation than a chatbot it\\u2019s easy less time consuming to use mr sakamoto is now one of the few genx persons who can do business with the millennial so easily better human interactions mr sakamoto has some employees and apprentices he has trained them as per his needs but there is a limit they can\\u2019t deliver the exact things that he can or the way he does neither chatbot can do that exactly it will accurately follow the instructions not only the chatbot solve the queries of the customer in his way but also give a recommendation to the product in the way he wants too is there any more attribute he would care about that absolutely no 247 service the most expensive thing for any businessman is the return of their customer with an empty hand because of his unavailability a chatbot is a perfect way to solve it for mr sakamoto\\u2019s customized chatbot is not only present for customers in their availability but also it was giving the response to the customer in all the time zone all over the world mr sakamoto wouldn\\u2019t be happier for this feature scaling up business in globalization in the era of globalization what is more helpful than a chatbot it can be customized in any language it can be accessed by any human being residing in any part of the world and at the end of the day when that foreigner is happy with the buy and the felicitation and says \\u201carigato\\u201d but in his own language at that moment he feels so warm and happy handling a lot of customers is really hard he assigned employees but the rate is growing fast so in the competition of the market mr sakamoto took the help of a chatbot now this automated customized application is handling a greater number of customers than his employees can do his business is growing exponentially now when you found out why mr sakamoto is happy and his business is growing in this competitive industry then do you still have a question in mind that why does your business need a chatbot blackcoffer insights 20 aniket bhunia netaji subhash engineering college previous articlehow you lead a project or a team without any technical expertisenext articlepayroll analytics ajay bidyarthy related articlesmore from author ai bot audio to audio efficient supply chain assessment overcoming technical hurdles for web application development streamlined integration interactive brokers api with python for desktop trading application most popular insights marketing drives results with a focus on problems november 25 2019 rise of ott platform and its impact on entertainment industry by october 17 2022 azure data lake and power bi dashboard january 16 2022 coronavirus impact on the hospitality industry may 1 2020 load more recommended insights recommendation system architecture construction accounts payable payroll analytics in power bi industrial revolution 40 \\u2013 pros and cons rise of cybercrime and its effect by the year 2040 latest insights ai bot audio to audio april 3 2024 efficient supply chain assessment overcoming technical hurdles for web application development march 17 2024 streamlined integration interactive brokers api with python for desktop trading application march 17 2024 popular insights ai bot audio to audio april 3 2024 efficient supply chain assessment overcoming technical hurdles for web application development march 17 2024 streamlined integration interactive brokers api with python for desktop trading application march 17 2024 popular insights categoryour success stories197what we think178blackcoffer149it78artificial intelligence53healthcare52big data44lifestyle ecommerce online market place44 about us we provide intelligence accelerate innovation and implement technology with extraordinary breadth and depth global insights into the big datadatadriven dashboards applications development and information management for organizations through combining unique specialist services and highlvel human expertise contact us helloblackcoffercom follow us facebooklinkedintwitteryoutube \\u00a9 all right reserved blackcofferopc pvt ltd our success stories what we do what we think how to schedule demo contact\",\n          \"rise of telemedicine and its impact on livelihood by 2040 blackcoffer insights sign in our success stories banking financials securities and insurance energy entertainment fast moving consumer goods government think tanks healthcare infrastructure real estate it lifestyle ecommerce online market place production manufacturing research academia retail supply chain telecom what we do banking financials securities and insurance energy entertainment fast moving consumer goods government think tanks healthcare hospitality infrastructure real estate it services lifestyle ecommerce online market place news media production manufacturing research academia retail supply chain what we think automobiles components bfsi asset and portfolio banks capital markets derivatives and securities diversified financials finance accounting insurance securities and capital markets capital goods commercial professional services consumer discretionary consumer durables apparel consumer services consumer staples food staples retailing food beverage tobacco household personal products data science analytics artificial intelligence big data business analytics data visualization internet of things machine learning statistics energy dataoil how to analytics application development artificial intelligence business analytics example optimization projects software development source code audit statistics web mobile app development schedule demo contact sign in welcomelog into your account your username your password forgot your password password recovery recover your password your email search sign in welcome log into your account your username your password forgot your password get help password recovery recover your password your email a password will be emailed to you saturday june 1 2024 sign in join our success stories what we do what we think how to schedule demo contact facebooklinkedintwitteryoutube our success stories allbanking financials securities and insuranceenergyentertainmentfast moving consumer goodsgovernment think tankshealthcareinfrastructure real estateitlifestyle ecommerce online market placeproduction manufacturingresearch academia our success stories efficient supply chain assessment overcoming technical hurdles for web application development march 17 2024 our success stories streamlined integration interactive brokers api with python for desktop trading application march 17 2024 our success stories efficient data integration and userfriendly interface development navigating challenges in web application deployment march 17 2024 our success stories effective management of social media data extraction strategies for authentication security and reliability march 17 2024 what we do allbanking financials securities and insuranceenergyentertainmentfast moving consumer goodsgovernment think tankshealthcarehospitalityinfrastructure real estateit serviceslifestyle ecommerce online market placenews media what we do ai bot audio to audio april 3 2024 what we do methodology for etl discovery tool using llma openai langchain february 27 2024 what we do methodology for database discovery tool using openai llma langchain february 27 2024 what we do chatbot using voiceflow february 15 2024 what we think allautomobiles componentsbfsiasset and portfoliobankscapital marketsderivatives and securitiesdiversified financialsfinance accountinginsurancesecurities and capital marketscapital goods what we think rising it cities and its impact on the economy environment infrastructure and city life by the year 2040 august 24 2023 what we think rising it cities and their impact on the economy environment infrastructure and city life in future august 18 2023 what we think internet demand\\u2019s evolution communication impact and 2035\\u2019s alternative pathways august 18 2023 what we think rise of cybercrime and its effect in upcoming future august 18 2023 how to allanalyticsapplication developmentartificial intelligencebusiness analyticsexampleoptimizationprojectssoftware developmentsource code auditstatisticsweb mobile app development what we do aiml and predictive modeling february 3 2022 blackcoffer solution for contact centre problems april 26 2021 how to how to setup custom domain for google app engine application february 13 2021 how to code review checklist april 10 2020 schedule demo contact search home what we think rise of telemedicine and its impact on livelihood by 2040 blackcofferfutureforecastswhat we think rise of telemedicine and its impact on livelihood by 2040 by ajay bidyarthy january 2 2023 10692 \\u201cmore gains on quality affordability and accessibility are on the way\\u201d what do telemed means as the world evolves and advances so does technology which in turn impacts our daily lives one of that advancement is telemedicine it\\u2019s not an overnight change but more like how summer turns into fall \\u2013 gradual yet very perceptible we are now able to access healthcare remotely and this has huge implications for the way we access healthcare how will people be accessing healthcare services in 2040 i believe that telehealth services will become an essential part of our everyday lives and will be easily accessible from the comfort of our own homes but first of all what is telemedicine it is the use of telecommunications technology to transmit medical information between healthcare professionals and patients via mobile devices or computer tablets healthcare providers can use these devices to connect remotely with their patients to monitor their health remotely or to even treat them during emergencies without having to travel from one location to another role of telemed during a pandemic telemedicine\\u2019s ability to address inequities in access has been demonstrated during the pandemic the ubiquitous smartphone capable of video interactions can be a lifeline for underserved populations in rural areas with few mental health professionals for example intermountain\\u2019s\\u2019s ability to offer virtual visits gives patients prompt access to both emergency and routine care early in the covid19 pandemic telehealth usage surged as consumers and providers sought ways to safely access and deliver healthcare when the pandemic forced the closure of inperson clinics and offices psychologists and psychiatrists across the world quickly instituted virtual visits telemedicine visits remained popular even after restrictions eased intermountain patients receiving their care virtually reported high satisfaction and were less likely to cancel appointments than patients who had scheduled inperson visits advantages of telemed in today\\u2019s era patients with obscure or complex medical problems often find themselves living a twopronged nightmare there\\u2019s the pain and fear of having a rare disease and the frustration of trying to find the right specialist patients may bounce from one local physician to the next wasting weeks or months sitting through useless appointments and enduring sleepless nights telemedicine offers a far better solution virtual technology can connect patients with the most experienced and knowledgeable doctors regardless of where they practice by eliminating the barriers of time and distance telemedicine can help address two serious problems for patients with difficult diagnoses and rare diseases the first is misdiagnosis the second is long waits for a proper diagnosis and effective treatment plan rise of the telemedicine industry postpandemic source the indian express this stepchange borne out of necessity was enabled by these factors 1 increased consumer willingness to use telehealth 2 increased provider willingness to use telehealth and 3 regulatory changes enabling greater access and reimbursement during the tragedy of the pandemic telehealth offered a bridge to care and now offers a chance to reinvent virtual and hybrid virtualinperson care models with a goal of improved healthcare access outcomes and affordability our consumer research5 shows that consumers continue to view telehealth as an important modality for their future care needs but\\u2014as expected\\u2014this view varies widely depending on the type of care overall consumer perception tracks closely to what we believe is possible telehealth uptake by various specialties exhibit 2 around 40 percent of surveyed consumers stated that they believe they will continue to use telehealth going forward\\u2014up from 11 percent of consumers using telehealth before covid19 its impact on human beings over the years moreover our research shows between 40 and 60 percent of consumers express interest in a set of broader virtual health solutions such as a \\u201cdigital front door\\u201d or lowercost virtualfirst health plan6 however a gap has historically existed between consumers\\u2019 expressed interest in digital health solutions and actual usage continuing to focus on creating a seamless consumer interface breaking down silos in care provision across virtual and inperson with improved data integration and insights and proactive consumer engagement will all be important to sustaining and growing consumer use of virtual health as the pandemic wanes increasing both the frequency and the scope of virtual care nationwide would transform indian health improving the lives of patients who get sick during nights and weekends those with chronic and mental health issues and anyone who could benefit from virtual specialty care it could save tens of thousands of lives and hundreds of billions of dollars each year as of july 2021 we step back to review the progress of telehealth since the initial covid19 spike and to assess implications for telehealth and virtual health more broadly going forward the findings include the following insights \\u201c telehealth utilization has stabilized at levels 38x higher than before the pandemic similarly consumer and provider attitudes toward telehealth have improved since the precovid19 era investment in virtual care and digital health more broadly has skyrocketed fuelling further innovation virtual healthcare models and business models are evolving and proliferating\\u201d access to online primary care is growing rapidly but remains concentrated among younger patients and minorities despite the challenges ahead substantial opportunities lie ahead as we recover from the pandemic is the rise in telemed industry temporary or will keep growing the trend toward more virtual health care will continue as consumers become more comfortable with telehealth and demand more convenient ways to access care in some areas such as urgent care and specialty care patients are starting to shift their preferences toward online solutions moving forward there are several important challenges and opportunities to consider to ensure that the benefits of telehealth are widely accessible to patients and providers alike role of business leaders in achieving new model when creating a new model of health care the hard work is in the details and because a teledriven system will affect every aspect of care delivery developing one entails thousands of decisions medical and financial leaders will need to design shape and implement the processes by which care will be delivered and paid for the specifics of how best to do this are beyond the scope of this article but here are two major considerations reimbursement and care delivery requisites businesses will need to band together to achieve economies of scale and identify the right leadership in the surrounding medical community businesses might wonder whether creating a new health system merits the time and energy that would be required they should consider that rapidly rising medical costs will significantly affect their bottom lines even before covid19 struck sparking supply chain challenges and exacerbating the shortage of healthcare professionals experts predicted that healthcare spending would increase by 55 annually businesses can expect extremely high medicalcost inflation if nothing is done the time to act is now summing it up lowering medical costs while maximizing the health of employees is the best way for businesses to stay profitable and maintain a loyal workforce the pandemic has highlighted the opportunities that exist and the problems that will worsen if nothing changes done well the transition to a teledriven health system could be accomplished in a few years if left to chance it could take decades\\u2014if it happens at all the current crisis offers a unique opportunity to build a better future for our healthcare system but we must act quickly blackcoffer insights 46 mayank garg from rukmini devi institute of advanced studiesggsipu rohini delhi tagsaiartificial intelligencebig datablackcoffer previous articlerise of chatbots and its impact on customer support by the year 2040next articlerise of ehealth and its impact on humans by the year 2030 ajay bidyarthy related articlesmore from author ai bot audio to audio efficient supply chain assessment overcoming technical hurdles for web application development streamlined integration interactive brokers api with python for desktop trading application most popular insights big data solution to an online multivendor marketplace ecommerce business january 16 2022 methodology for database discovery tool using openai llma langchain february 27 2024 splitting of songs into its vocals and instrumental september 4 2021 role of big data in healthcare may 26 2017 load more recommended insights streamlined equity waterfall calculation and deal management system etl discovery tool using llma langchain openai an etl solution for currency data to google big query industrial revolution 40 \\u2013 pros and cons latest insights ai bot audio to audio april 3 2024 efficient supply chain assessment overcoming technical hurdles for web application development march 17 2024 streamlined integration interactive brokers api with python for desktop trading application march 17 2024 popular insights ai bot audio to audio april 3 2024 efficient supply chain assessment overcoming technical hurdles for web application development march 17 2024 streamlined integration interactive brokers api with python for desktop trading application march 17 2024 popular insights categoryour success stories197what we think178blackcoffer149it78artificial intelligence53healthcare52big data44lifestyle ecommerce online market place44 about us we provide intelligence accelerate innovation and implement technology with extraordinary breadth and depth global insights into the big datadatadriven dashboards applications development and information management for organizations through combining unique specialist services and highlvel human expertise contact us helloblackcoffercom follow us facebooklinkedintwitteryoutube \\u00a9 all right reserved blackcofferopc pvt ltd our success stories what we do what we think how to schedule demo contact\",\n          \"rise of chatbots and its impact on customer support by the year 2040 blackcoffer insights sign in our success stories banking financials securities and insurance energy entertainment fast moving consumer goods government think tanks healthcare infrastructure real estate it lifestyle ecommerce online market place production manufacturing research academia retail supply chain telecom what we do banking financials securities and insurance energy entertainment fast moving consumer goods government think tanks healthcare hospitality infrastructure real estate it services lifestyle ecommerce online market place news media production manufacturing research academia retail supply chain what we think automobiles components bfsi asset and portfolio banks capital markets derivatives and securities diversified financials finance accounting insurance securities and capital markets capital goods commercial professional services consumer discretionary consumer durables apparel consumer services consumer staples food staples retailing food beverage tobacco household personal products data science analytics artificial intelligence big data business analytics data visualization internet of things machine learning statistics energy dataoil how to analytics application development artificial intelligence business analytics example optimization projects software development source code audit statistics web mobile app development schedule demo contact sign in welcomelog into your account your username your password forgot your password password recovery recover your password your email search sign in welcome log into your account your username your password forgot your password get help password recovery recover your password your email a password will be emailed to you friday may 31 2024 sign in join our success stories what we do what we think how to schedule demo contact facebooklinkedintwitteryoutube our success stories allbanking financials securities and insuranceenergyentertainmentfast moving consumer goodsgovernment think tankshealthcareinfrastructure real estateitlifestyle ecommerce online market placeproduction manufacturingresearch academia our success stories efficient supply chain assessment overcoming technical hurdles for web application development march 17 2024 our success stories streamlined integration interactive brokers api with python for desktop trading application march 17 2024 our success stories efficient data integration and userfriendly interface development navigating challenges in web application deployment march 17 2024 our success stories effective management of social media data extraction strategies for authentication security and reliability march 17 2024 what we do allbanking financials securities and insuranceenergyentertainmentfast moving consumer goodsgovernment think tankshealthcarehospitalityinfrastructure real estateit serviceslifestyle ecommerce online market placenews media what we do ai bot audio to audio april 3 2024 what we do methodology for etl discovery tool using llma openai langchain february 27 2024 what we do methodology for database discovery tool using openai llma langchain february 27 2024 what we do chatbot using voiceflow february 15 2024 what we think allautomobiles componentsbfsiasset and portfoliobankscapital marketsderivatives and securitiesdiversified financialsfinance accountinginsurancesecurities and capital marketscapital goods what we think rising it cities and its impact on the economy environment infrastructure and city life by the year 2040 august 24 2023 what we think rising it cities and their impact on the economy environment infrastructure and city life in future august 18 2023 what we think internet demand\\u2019s evolution communication impact and 2035\\u2019s alternative pathways august 18 2023 what we think rise of cybercrime and its effect in upcoming future august 18 2023 how to allanalyticsapplication developmentartificial intelligencebusiness analyticsexampleoptimizationprojectssoftware developmentsource code auditstatisticsweb mobile app development what we do aiml and predictive modeling february 3 2022 blackcoffer solution for contact centre problems april 26 2021 how to how to setup custom domain for google app engine application february 13 2021 how to code review checklist april 10 2020 schedule demo contact search home blackcoffer rise of chatbots and its impact on customer support by the year blackcofferfutureforecastswhat we think rise of chatbots and its impact on customer support by the year 2040 by ajay bidyarthy january 2 2023 10586 the human race is known to come up with inventions that decide its future many scholars believe that artificial intelligenceai has been the most pioneering innovation since early humans discovered fire and invented the wheel the advancement of groundbreaking technologies such as artificial intelligence and machine learning ml have constantly been shaping the future of humankind the likes of mark zuckerberg have welcomed the evolution of ai he once stated \\u201cwith ai especially i am optimistic\\u201c while according to elon musk \\u201cai can outsmart and endanger us\\u201d however we simply cannot ignore how useful and influential ai is in our daily lives the applications of ai and ml have delved deeply into various domains the least to mention are healthcare transportation education media communication manufacturing and customer service businesses worldwide are placing a significant emphasis on enhancing their customers\\u2019 overall experiences as a result of ai a massive leap in customer experience service has come up with the evolution of chatbots what is a chatbot and how is it useful in business chatbots are aibased systems used by businesses for communication with customers customers can interact with chatbots directly via chat and voice applications numerous online customer service platforms are utilizing chatbots to manage bulk phone calls faqs and other common customer service inquiries chatbots resolve customer queries within no time and are accessible 24x7 enhancing the customer experience the use of technologies such as ai ml and nlp natural language processing enables the bot to analyze and identify the user\\u2019s problems and instantly give the most relevant answers to the queries platforms such as facebook messenger wechat discord and slack have been extensively using chatbots for better communication advantages of using chatbots and their impact on customer support there are numerous advantages of using chatbots in businesses chatbots can communicate with multiple customers at once they can be used to send regular updates about the products and exclusive offers by the company they are available throughout the day which is crucial for businesses that expand globally in different time zones it becomes too cumbersome for businesses to have customer care support centers at various locations across the world there is no human intervention involved therefore chatbots can be accessed worldwide anytime chatbots reply instantly and hence it increases customer engagement chatbots can also be extensively used to collect user data and analyze it further to provide customized solutions mlbased chatbot systems are learning from past conversations to generate more thoughtful replies roughly 40 of internet users around the globe prefer interacting with chatbots rather than virtual agents with leading sectors such as retail and healthcare rapidly turning towards digital technology chatbots will continue to grow in popularity in the years to come chatbot market trends and forecast about its impact on customer support by 2040 according to some reports it is anticipated that the size of the global chatbot market will expand at a compound annual growth rate cagr of approximately 26 from the years 2022 to 2030 in the year 2021 the chatbot market size was valued at a total of usd 525 million it is anticipated that the growing adoption of customer service activities among enterprises to reduce operating costs will be the primary factor driving the chatbot market in the past few years some of the most significant advances that have been made in artificial intelligence and machine learning have been in the areas of perception and cognition although there is much room for improvement in voice recognition technology the tech giants like apple amazon and google have all made significant strides in this direction with their digital assistants siri alexa and google assistant respectively deep learning systems are now actively utilized to decide trades accomplished on wall street and predict whether users will click on particular advertisements it has increased efficiency on both the consumer and the business side of things chatbots can help businesses save money by generating revenue conducting research generating leads and increasing brand awareness other uses for chatbots include research and lead generation given the trends of the data we can expect the chatbot industry to surpass the billiondollar mark in a few years hence by 2040 the chatbot industry would be having a multibillion dollar market value how are companies utilizing chatbots to provide superior support for their customers a comprehensive analysis that provides deep insights into the future of customer service in 2040 bank of america is responsible for creating one of the most groundbreaking innovations the recently introduced \\u201cerica\\u201d is intended to assist customers in making more informed choices regarding their finances customers can make payments check their balances save money and transfer funds with this chatbot which uses artificial intelligence algorithms and predictive messaging erica makes it possible for users to interact via text and voice and it then uses the information provided to push insights to the customer klm royal dutch airlines is another company incorporating chatbots into their customer service channel klm increased the number of customer interactions with the facebook messenger app by forty percent the airline wanted to facilitate more effortless conversations between its employees and passengers without compromising passengers\\u2019 right to personal privacy klm was aware that its customers spent a significant amount of time using facebook and messenger so the company decided to implement a chatbot as its platform for customer service messenger is now the channel through which customers can directly receive booking details boarding passes and flight status updates on a typical day klm receives an average of five messages per minute through facebook messenger during peak traffic that number jumps to over eleven messages per minute these innovations with chatbots will surely pave the way for the future by 2040 chatbots will completely revolutionize the customer experience domain challenges ahead there are apparent constraints with ai technology the absence of emotional intelligence restricts the range and depth of the conversation that can take place when aidriven chatbots are used with customers even though the chatbots can learn from and predict the behavior of the customers the availability of trained staff and their familiarity with this developing technology is another factor that can hinder the effectiveness of chatbots chatbots can have significant limitations when it comes to different languages and accents this restriction turns into a significant obstacle for companies that operate in more than one location maintaining the security of the customer\\u2019s data is also a key challenge conclusion even though chatbot technology has some limitations in how it can function there are innumerable advantages of using this technology in improving customer support the chatbot technology is potent enough to enhance customer support multifolds by 2040 the optimistic thing about this technology is that mlbased systems can learn from their own experiences and improve with time hence there is a high chance that chatbot technology is perhaps \\u201cthe next big thing\\u201d in the customer service domain blackcoffer insights 46 faizan raza btech from iit delhi tagsaichat and voicecommunicationcustomer serviceeducationhealthcaremachine learningmanufacturingmediamltransportation previous articleranking customer behaviours for business strategynext articlerise of telemedicine and its impact on livelihood by 2040 ajay bidyarthy related articlesmore from author ai bot audio to audio efficient supply chain assessment overcoming technical hurdles for web application development streamlined integration interactive brokers api with python for desktop trading application most popular insights advanced ai for handgun detection july 21 2023 how to access amazon seller central or vendor central data in march 3 2021 aws quicksight reporting dashboard january 16 2022 an etl solution for an internet publishing firm july 26 2023 load more recommended insights how does metaverse work in the financial sector ai bot audio to audio how to access amazon seller central or vendor central data in transforming insurance claim processing with automation artificial intelligence latest insights ai bot audio to audio april 3 2024 efficient supply chain assessment overcoming technical hurdles for web application development march 17 2024 streamlined integration interactive brokers api with python for desktop trading application march 17 2024 popular insights ai bot audio to audio april 3 2024 efficient supply chain assessment overcoming technical hurdles for web application development march 17 2024 streamlined integration interactive brokers api with python for desktop trading application march 17 2024 popular insights categoryour success stories197what we think178blackcoffer149it78artificial intelligence53healthcare52big data44lifestyle ecommerce online market place44 about us we provide intelligence accelerate innovation and implement technology with extraordinary breadth and depth global insights into the big datadatadriven dashboards applications development and information management for organizations through combining unique specialist services and highlvel human expertise contact us helloblackcoffercom follow us facebooklinkedintwitteryoutube \\u00a9 all right reserved blackcofferopc pvt ltd our success stories what we do what we think how to schedule demo contact\"\n        ],\n        \"semantic_type\": \"\",\n        \"description\": \"\"\n      }\n    }\n  ]\n}"
            }
          },
          "metadata": {},
          "execution_count": 17
        }
      ]
    },
    {
      "cell_type": "code",
      "source": [
        "#information of data frame\n",
        "text.info()"
      ],
      "metadata": {
        "colab": {
          "base_uri": "https://localhost:8080/"
        },
        "id": "Cx_o_Yb-5ar1",
        "outputId": "7abd4073-2d39-485a-80a2-94ae61e6fffa"
      },
      "execution_count": 18,
      "outputs": [
        {
          "output_type": "stream",
          "name": "stdout",
          "text": [
            "<class 'pandas.core.frame.DataFrame'>\n",
            "RangeIndex: 200 entries, 0 to 199\n",
            "Data columns (total 1 columns):\n",
            " #   Column  Non-Null Count  Dtype \n",
            "---  ------  --------------  ----- \n",
            " 0   0       200 non-null    object\n",
            "dtypes: object(1)\n",
            "memory usage: 1.7+ KB\n"
          ]
        }
      ]
    },
    {
      "cell_type": "code",
      "source": [
        "#converting type\n",
        "text=text.astype(str)"
      ],
      "metadata": {
        "id": "tGEbK61W5axv"
      },
      "execution_count": 20,
      "outputs": []
    },
    {
      "cell_type": "code",
      "source": [
        "#converting text to sentence\n",
        "import re\n",
        "a=text[0].str.split('([\\.]\\s)',expand=False)#splitting text on '.'\n",
        "b=a.explode()#converting to rows\n",
        "b=pd.DataFrame(b)#creating data frame\n",
        "b.columns=['abc']"
      ],
      "metadata": {
        "id": "cE9LkIcz5a0f"
      },
      "execution_count": 21,
      "outputs": []
    },
    {
      "cell_type": "code",
      "source": [
        "#removing . char from each rows\n",
        "def abcd(x):\n",
        "    nopunc =[char for char in x if char != '.']\n",
        "    return ''.join(nopunc)\n",
        "b['abc']=b['abc'].apply(abcd)\n"
      ],
      "metadata": {
        "id": "7-bXQilW5a3A"
      },
      "execution_count": 22,
      "outputs": []
    },
    {
      "cell_type": "code",
      "source": [
        "#replacing emty space with null values\n",
        "c=b.replace('',np.nan,regex=True)\n",
        "c=c.mask(c==\" \")\n",
        "c=c.dropna()\n",
        "c.reset_index(drop=True,inplace=True)"
      ],
      "metadata": {
        "id": "Z7DavNsM5_8T"
      },
      "execution_count": 23,
      "outputs": []
    },
    {
      "cell_type": "code",
      "source": [
        "c\n"
      ],
      "metadata": {
        "colab": {
          "base_uri": "https://localhost:8080/",
          "height": 423
        },
        "id": "LEiq1IWe5__H",
        "outputId": "d8a62098-89ad-4539-811e-509abd5d3df8"
      },
      "execution_count": 24,
      "outputs": [
        {
          "output_type": "execute_result",
          "data": {
            "text/plain": [
              "                                                   abc\n",
              "0    rising it cities and its impact on the economy...\n",
              "1    rising it cities and their impact on the econo...\n",
              "2    internet demands evolution communication impac...\n",
              "3    rise of cybercrime and its effect in upcoming ...\n",
              "4    ott platform and its impact on the entertainme...\n",
              "..                                                 ...\n",
              "195  due to the covid19 the repercussion of the env...\n",
              "196  impact of covid19 pandemic on office space and...\n",
              "197  contribution of handicrafts visual arts litera...\n",
              "198  how covid19 is impacting payment preferences b...\n",
              "199  how will covid19 affect the world of work blac...\n",
              "\n",
              "[200 rows x 1 columns]"
            ],
            "text/html": [
              "\n",
              "  <div id=\"df-33947d4c-f07b-4b27-8eaa-58e198172ee6\" class=\"colab-df-container\">\n",
              "    <div>\n",
              "<style scoped>\n",
              "    .dataframe tbody tr th:only-of-type {\n",
              "        vertical-align: middle;\n",
              "    }\n",
              "\n",
              "    .dataframe tbody tr th {\n",
              "        vertical-align: top;\n",
              "    }\n",
              "\n",
              "    .dataframe thead th {\n",
              "        text-align: right;\n",
              "    }\n",
              "</style>\n",
              "<table border=\"1\" class=\"dataframe\">\n",
              "  <thead>\n",
              "    <tr style=\"text-align: right;\">\n",
              "      <th></th>\n",
              "      <th>abc</th>\n",
              "    </tr>\n",
              "  </thead>\n",
              "  <tbody>\n",
              "    <tr>\n",
              "      <th>0</th>\n",
              "      <td>rising it cities and its impact on the economy...</td>\n",
              "    </tr>\n",
              "    <tr>\n",
              "      <th>1</th>\n",
              "      <td>rising it cities and their impact on the econo...</td>\n",
              "    </tr>\n",
              "    <tr>\n",
              "      <th>2</th>\n",
              "      <td>internet demands evolution communication impac...</td>\n",
              "    </tr>\n",
              "    <tr>\n",
              "      <th>3</th>\n",
              "      <td>rise of cybercrime and its effect in upcoming ...</td>\n",
              "    </tr>\n",
              "    <tr>\n",
              "      <th>4</th>\n",
              "      <td>ott platform and its impact on the entertainme...</td>\n",
              "    </tr>\n",
              "    <tr>\n",
              "      <th>...</th>\n",
              "      <td>...</td>\n",
              "    </tr>\n",
              "    <tr>\n",
              "      <th>195</th>\n",
              "      <td>due to the covid19 the repercussion of the env...</td>\n",
              "    </tr>\n",
              "    <tr>\n",
              "      <th>196</th>\n",
              "      <td>impact of covid19 pandemic on office space and...</td>\n",
              "    </tr>\n",
              "    <tr>\n",
              "      <th>197</th>\n",
              "      <td>contribution of handicrafts visual arts litera...</td>\n",
              "    </tr>\n",
              "    <tr>\n",
              "      <th>198</th>\n",
              "      <td>how covid19 is impacting payment preferences b...</td>\n",
              "    </tr>\n",
              "    <tr>\n",
              "      <th>199</th>\n",
              "      <td>how will covid19 affect the world of work blac...</td>\n",
              "    </tr>\n",
              "  </tbody>\n",
              "</table>\n",
              "<p>200 rows × 1 columns</p>\n",
              "</div>\n",
              "    <div class=\"colab-df-buttons\">\n",
              "\n",
              "  <div class=\"colab-df-container\">\n",
              "    <button class=\"colab-df-convert\" onclick=\"convertToInteractive('df-33947d4c-f07b-4b27-8eaa-58e198172ee6')\"\n",
              "            title=\"Convert this dataframe to an interactive table.\"\n",
              "            style=\"display:none;\">\n",
              "\n",
              "  <svg xmlns=\"http://www.w3.org/2000/svg\" height=\"24px\" viewBox=\"0 -960 960 960\">\n",
              "    <path d=\"M120-120v-720h720v720H120Zm60-500h600v-160H180v160Zm220 220h160v-160H400v160Zm0 220h160v-160H400v160ZM180-400h160v-160H180v160Zm440 0h160v-160H620v160ZM180-180h160v-160H180v160Zm440 0h160v-160H620v160Z\"/>\n",
              "  </svg>\n",
              "    </button>\n",
              "\n",
              "  <style>\n",
              "    .colab-df-container {\n",
              "      display:flex;\n",
              "      gap: 12px;\n",
              "    }\n",
              "\n",
              "    .colab-df-convert {\n",
              "      background-color: #E8F0FE;\n",
              "      border: none;\n",
              "      border-radius: 50%;\n",
              "      cursor: pointer;\n",
              "      display: none;\n",
              "      fill: #1967D2;\n",
              "      height: 32px;\n",
              "      padding: 0 0 0 0;\n",
              "      width: 32px;\n",
              "    }\n",
              "\n",
              "    .colab-df-convert:hover {\n",
              "      background-color: #E2EBFA;\n",
              "      box-shadow: 0px 1px 2px rgba(60, 64, 67, 0.3), 0px 1px 3px 1px rgba(60, 64, 67, 0.15);\n",
              "      fill: #174EA6;\n",
              "    }\n",
              "\n",
              "    .colab-df-buttons div {\n",
              "      margin-bottom: 4px;\n",
              "    }\n",
              "\n",
              "    [theme=dark] .colab-df-convert {\n",
              "      background-color: #3B4455;\n",
              "      fill: #D2E3FC;\n",
              "    }\n",
              "\n",
              "    [theme=dark] .colab-df-convert:hover {\n",
              "      background-color: #434B5C;\n",
              "      box-shadow: 0px 1px 3px 1px rgba(0, 0, 0, 0.15);\n",
              "      filter: drop-shadow(0px 1px 2px rgba(0, 0, 0, 0.3));\n",
              "      fill: #FFFFFF;\n",
              "    }\n",
              "  </style>\n",
              "\n",
              "    <script>\n",
              "      const buttonEl =\n",
              "        document.querySelector('#df-33947d4c-f07b-4b27-8eaa-58e198172ee6 button.colab-df-convert');\n",
              "      buttonEl.style.display =\n",
              "        google.colab.kernel.accessAllowed ? 'block' : 'none';\n",
              "\n",
              "      async function convertToInteractive(key) {\n",
              "        const element = document.querySelector('#df-33947d4c-f07b-4b27-8eaa-58e198172ee6');\n",
              "        const dataTable =\n",
              "          await google.colab.kernel.invokeFunction('convertToInteractive',\n",
              "                                                    [key], {});\n",
              "        if (!dataTable) return;\n",
              "\n",
              "        const docLinkHtml = 'Like what you see? Visit the ' +\n",
              "          '<a target=\"_blank\" href=https://colab.research.google.com/notebooks/data_table.ipynb>data table notebook</a>'\n",
              "          + ' to learn more about interactive tables.';\n",
              "        element.innerHTML = '';\n",
              "        dataTable['output_type'] = 'display_data';\n",
              "        await google.colab.output.renderOutput(dataTable, element);\n",
              "        const docLink = document.createElement('div');\n",
              "        docLink.innerHTML = docLinkHtml;\n",
              "        element.appendChild(docLink);\n",
              "      }\n",
              "    </script>\n",
              "  </div>\n",
              "\n",
              "\n",
              "<div id=\"df-4f8f4590-6746-40fe-bcea-75f600bf7c6a\">\n",
              "  <button class=\"colab-df-quickchart\" onclick=\"quickchart('df-4f8f4590-6746-40fe-bcea-75f600bf7c6a')\"\n",
              "            title=\"Suggest charts\"\n",
              "            style=\"display:none;\">\n",
              "\n",
              "<svg xmlns=\"http://www.w3.org/2000/svg\" height=\"24px\"viewBox=\"0 0 24 24\"\n",
              "     width=\"24px\">\n",
              "    <g>\n",
              "        <path d=\"M19 3H5c-1.1 0-2 .9-2 2v14c0 1.1.9 2 2 2h14c1.1 0 2-.9 2-2V5c0-1.1-.9-2-2-2zM9 17H7v-7h2v7zm4 0h-2V7h2v10zm4 0h-2v-4h2v4z\"/>\n",
              "    </g>\n",
              "</svg>\n",
              "  </button>\n",
              "\n",
              "<style>\n",
              "  .colab-df-quickchart {\n",
              "      --bg-color: #E8F0FE;\n",
              "      --fill-color: #1967D2;\n",
              "      --hover-bg-color: #E2EBFA;\n",
              "      --hover-fill-color: #174EA6;\n",
              "      --disabled-fill-color: #AAA;\n",
              "      --disabled-bg-color: #DDD;\n",
              "  }\n",
              "\n",
              "  [theme=dark] .colab-df-quickchart {\n",
              "      --bg-color: #3B4455;\n",
              "      --fill-color: #D2E3FC;\n",
              "      --hover-bg-color: #434B5C;\n",
              "      --hover-fill-color: #FFFFFF;\n",
              "      --disabled-bg-color: #3B4455;\n",
              "      --disabled-fill-color: #666;\n",
              "  }\n",
              "\n",
              "  .colab-df-quickchart {\n",
              "    background-color: var(--bg-color);\n",
              "    border: none;\n",
              "    border-radius: 50%;\n",
              "    cursor: pointer;\n",
              "    display: none;\n",
              "    fill: var(--fill-color);\n",
              "    height: 32px;\n",
              "    padding: 0;\n",
              "    width: 32px;\n",
              "  }\n",
              "\n",
              "  .colab-df-quickchart:hover {\n",
              "    background-color: var(--hover-bg-color);\n",
              "    box-shadow: 0 1px 2px rgba(60, 64, 67, 0.3), 0 1px 3px 1px rgba(60, 64, 67, 0.15);\n",
              "    fill: var(--button-hover-fill-color);\n",
              "  }\n",
              "\n",
              "  .colab-df-quickchart-complete:disabled,\n",
              "  .colab-df-quickchart-complete:disabled:hover {\n",
              "    background-color: var(--disabled-bg-color);\n",
              "    fill: var(--disabled-fill-color);\n",
              "    box-shadow: none;\n",
              "  }\n",
              "\n",
              "  .colab-df-spinner {\n",
              "    border: 2px solid var(--fill-color);\n",
              "    border-color: transparent;\n",
              "    border-bottom-color: var(--fill-color);\n",
              "    animation:\n",
              "      spin 1s steps(1) infinite;\n",
              "  }\n",
              "\n",
              "  @keyframes spin {\n",
              "    0% {\n",
              "      border-color: transparent;\n",
              "      border-bottom-color: var(--fill-color);\n",
              "      border-left-color: var(--fill-color);\n",
              "    }\n",
              "    20% {\n",
              "      border-color: transparent;\n",
              "      border-left-color: var(--fill-color);\n",
              "      border-top-color: var(--fill-color);\n",
              "    }\n",
              "    30% {\n",
              "      border-color: transparent;\n",
              "      border-left-color: var(--fill-color);\n",
              "      border-top-color: var(--fill-color);\n",
              "      border-right-color: var(--fill-color);\n",
              "    }\n",
              "    40% {\n",
              "      border-color: transparent;\n",
              "      border-right-color: var(--fill-color);\n",
              "      border-top-color: var(--fill-color);\n",
              "    }\n",
              "    60% {\n",
              "      border-color: transparent;\n",
              "      border-right-color: var(--fill-color);\n",
              "    }\n",
              "    80% {\n",
              "      border-color: transparent;\n",
              "      border-right-color: var(--fill-color);\n",
              "      border-bottom-color: var(--fill-color);\n",
              "    }\n",
              "    90% {\n",
              "      border-color: transparent;\n",
              "      border-bottom-color: var(--fill-color);\n",
              "    }\n",
              "  }\n",
              "</style>\n",
              "\n",
              "  <script>\n",
              "    async function quickchart(key) {\n",
              "      const quickchartButtonEl =\n",
              "        document.querySelector('#' + key + ' button');\n",
              "      quickchartButtonEl.disabled = true;  // To prevent multiple clicks.\n",
              "      quickchartButtonEl.classList.add('colab-df-spinner');\n",
              "      try {\n",
              "        const charts = await google.colab.kernel.invokeFunction(\n",
              "            'suggestCharts', [key], {});\n",
              "      } catch (error) {\n",
              "        console.error('Error during call to suggestCharts:', error);\n",
              "      }\n",
              "      quickchartButtonEl.classList.remove('colab-df-spinner');\n",
              "      quickchartButtonEl.classList.add('colab-df-quickchart-complete');\n",
              "    }\n",
              "    (() => {\n",
              "      let quickchartButtonEl =\n",
              "        document.querySelector('#df-4f8f4590-6746-40fe-bcea-75f600bf7c6a button');\n",
              "      quickchartButtonEl.style.display =\n",
              "        google.colab.kernel.accessAllowed ? 'block' : 'none';\n",
              "    })();\n",
              "  </script>\n",
              "</div>\n",
              "\n",
              "  <div id=\"id_4706e1db-10dc-41c9-af17-3577d709b523\">\n",
              "    <style>\n",
              "      .colab-df-generate {\n",
              "        background-color: #E8F0FE;\n",
              "        border: none;\n",
              "        border-radius: 50%;\n",
              "        cursor: pointer;\n",
              "        display: none;\n",
              "        fill: #1967D2;\n",
              "        height: 32px;\n",
              "        padding: 0 0 0 0;\n",
              "        width: 32px;\n",
              "      }\n",
              "\n",
              "      .colab-df-generate:hover {\n",
              "        background-color: #E2EBFA;\n",
              "        box-shadow: 0px 1px 2px rgba(60, 64, 67, 0.3), 0px 1px 3px 1px rgba(60, 64, 67, 0.15);\n",
              "        fill: #174EA6;\n",
              "      }\n",
              "\n",
              "      [theme=dark] .colab-df-generate {\n",
              "        background-color: #3B4455;\n",
              "        fill: #D2E3FC;\n",
              "      }\n",
              "\n",
              "      [theme=dark] .colab-df-generate:hover {\n",
              "        background-color: #434B5C;\n",
              "        box-shadow: 0px 1px 3px 1px rgba(0, 0, 0, 0.15);\n",
              "        filter: drop-shadow(0px 1px 2px rgba(0, 0, 0, 0.3));\n",
              "        fill: #FFFFFF;\n",
              "      }\n",
              "    </style>\n",
              "    <button class=\"colab-df-generate\" onclick=\"generateWithVariable('c')\"\n",
              "            title=\"Generate code using this dataframe.\"\n",
              "            style=\"display:none;\">\n",
              "\n",
              "  <svg xmlns=\"http://www.w3.org/2000/svg\" height=\"24px\"viewBox=\"0 0 24 24\"\n",
              "       width=\"24px\">\n",
              "    <path d=\"M7,19H8.4L18.45,9,17,7.55,7,17.6ZM5,21V16.75L18.45,3.32a2,2,0,0,1,2.83,0l1.4,1.43a1.91,1.91,0,0,1,.58,1.4,1.91,1.91,0,0,1-.58,1.4L9.25,21ZM18.45,9,17,7.55Zm-12,3A5.31,5.31,0,0,0,4.9,8.1,5.31,5.31,0,0,0,1,6.5,5.31,5.31,0,0,0,4.9,4.9,5.31,5.31,0,0,0,6.5,1,5.31,5.31,0,0,0,8.1,4.9,5.31,5.31,0,0,0,12,6.5,5.46,5.46,0,0,0,6.5,12Z\"/>\n",
              "  </svg>\n",
              "    </button>\n",
              "    <script>\n",
              "      (() => {\n",
              "      const buttonEl =\n",
              "        document.querySelector('#id_4706e1db-10dc-41c9-af17-3577d709b523 button.colab-df-generate');\n",
              "      buttonEl.style.display =\n",
              "        google.colab.kernel.accessAllowed ? 'block' : 'none';\n",
              "\n",
              "      buttonEl.onclick = () => {\n",
              "        google.colab.notebook.generateWithVariable('c');\n",
              "      }\n",
              "      })();\n",
              "    </script>\n",
              "  </div>\n",
              "\n",
              "    </div>\n",
              "  </div>\n"
            ],
            "application/vnd.google.colaboratory.intrinsic+json": {
              "type": "dataframe",
              "variable_name": "c",
              "summary": "{\n  \"name\": \"c\",\n  \"rows\": 200,\n  \"fields\": [\n    {\n      \"column\": \"abc\",\n      \"properties\": {\n        \"dtype\": \"string\",\n        \"num_unique_values\": 198,\n        \"samples\": [\n          \"why does your business need a chatbot blackcoffer insights sign in our success stories banking financials securities and insurance energy entertainment fast moving consumer goods government think tanks healthcare infrastructure real estate it lifestyle ecommerce online market place production manufacturing research academia retail supply chain telecom what we do banking financials securities and insurance energy entertainment fast moving consumer goods government think tanks healthcare hospitality infrastructure real estate it services lifestyle ecommerce online market place news media production manufacturing research academia retail supply chain what we think automobiles components bfsi asset and portfolio banks capital markets derivatives and securities diversified financials finance accounting insurance securities and capital markets capital goods commercial professional services consumer discretionary consumer durables apparel consumer services consumer staples food staples retailing food beverage tobacco household personal products data science analytics artificial intelligence big data business analytics data visualization internet of things machine learning statistics energy dataoil how to analytics application development artificial intelligence business analytics example optimization projects software development source code audit statistics web mobile app development schedule demo contact sign in welcomelog into your account your username your password forgot your password password recovery recover your password your email search sign in welcome log into your account your username your password forgot your password get help password recovery recover your password your email a password will be emailed to you friday may 31 2024 sign in join our success stories what we do what we think how to schedule demo contact facebooklinkedintwitteryoutube our success stories allbanking financials securities and insuranceenergyentertainmentfast moving consumer goodsgovernment think tankshealthcareinfrastructure real estateitlifestyle ecommerce online market placeproduction manufacturingresearch academia our success stories efficient supply chain assessment overcoming technical hurdles for web application development march 17 2024 our success stories streamlined integration interactive brokers api with python for desktop trading application march 17 2024 our success stories efficient data integration and userfriendly interface development navigating challenges in web application deployment march 17 2024 our success stories effective management of social media data extraction strategies for authentication security and reliability march 17 2024 what we do allbanking financials securities and insuranceenergyentertainmentfast moving consumer goodsgovernment think tankshealthcarehospitalityinfrastructure real estateit serviceslifestyle ecommerce online market placenews media what we do ai bot audio to audio april 3 2024 what we do methodology for etl discovery tool using llma openai langchain february 27 2024 what we do methodology for database discovery tool using openai llma langchain february 27 2024 what we do chatbot using voiceflow february 15 2024 what we think allautomobiles componentsbfsiasset and portfoliobankscapital marketsderivatives and securitiesdiversified financialsfinance accountinginsurancesecurities and capital marketscapital goods what we think rising it cities and its impact on the economy environment infrastructure and city life by the year 2040 august 24 2023 what we think rising it cities and their impact on the economy environment infrastructure and city life in future august 18 2023 what we think internet demand\\u2019s evolution communication impact and 2035\\u2019s alternative pathways august 18 2023 what we think rise of cybercrime and its effect in upcoming future august 18 2023 how to allanalyticsapplication developmentartificial intelligencebusiness analyticsexampleoptimizationprojectssoftware developmentsource code auditstatisticsweb mobile app development what we do aiml and predictive modeling february 3 2022 blackcoffer solution for contact centre problems april 26 2021 how to how to setup custom domain for google app engine application february 13 2021 how to code review checklist april 10 2020 schedule demo contact search home what we think why does your business need a chatbot data scienceartificial intelligenceblackcofferwhat we think why does your business need a chatbot by ajay bidyarthy september 22 2020 19663 mr sakamoto is a bonsai artist lives downtown kyoto japan bonsai is a japanese art form that is the cultivation of small trees in a small or medium container he is in this field of business for the last ten years and he loves what he does on a daily basis people from different cities in japan come to buy his artwork but in the early stage of his business he was just another regular bosai artist his popularity has increased because of the stories he tells for every art he is selling his customer immediately loved him for this while buying a bonsai art he loved to sell his customer with his artwork and a story related to that product which resurrects his presence through his art in customers soon enough his business thrived and nowadays he is always busy after the digital revolution although his sales increased he was not happy he was not satisfied something is eating up his mind day by day he could not understand what\\u2019s the reason behind his remorse a chatbot is an awesome invention of the digital revolution it is the reallife embodiment of customer engagement every business needs this feature will be an understatement because customer engagement is the base of any business the chatbot does the exact thing digitally it helps customers to answer the queries and tell about the product that the business has to offer is a fully automated way with vibrant customizations mr sakamoto is running his business for the last fifteen years now and now he is happy that he was not for the past couple of years the rationale behind his happiness is the chatbot though he has a website and app to sell his bonsai art he could not engage with the customers in the way he wanted to he has trained his employees and apprentices but they are not providing the same service in the way he does he was unsatisfied and the chatbot relives him from his sadness he has done all that at affordable prices in no time let\\u2019s understand the mr sakamoto\\u2019s \\u201cmondai nai\\u201d perspective about why chatbot is the answer of his problems building the trust with customers this is the fundamental and root cause for which mr sakamoto has to implement the chatbot in the first place his stories are embedded with each art the product which he sells needs this story to be with it his stories which were not been told to all the customers before are now sharing with this chatbot and building the trust between them we all can agree on this one statement that trust is the most impactful aspect maybe the best of aspects in the relation between any customer and businessowner whether the business is small medium or large target the millennial customer millennials a word that was not introduced before 1990 the generation which is stuck in between genx and geny a generation of people accustomed to both digitization and old culture they are the most targeted audience in this era what else would be more approachable to this generation than a chatbot it\\u2019s easy less time consuming to use mr sakamoto is now one of the few genx persons who can do business with the millennial so easily better human interactions mr sakamoto has some employees and apprentices he has trained them as per his needs but there is a limit they can\\u2019t deliver the exact things that he can or the way he does neither chatbot can do that exactly it will accurately follow the instructions not only the chatbot solve the queries of the customer in his way but also give a recommendation to the product in the way he wants too is there any more attribute he would care about that absolutely no 247 service the most expensive thing for any businessman is the return of their customer with an empty hand because of his unavailability a chatbot is a perfect way to solve it for mr sakamoto\\u2019s customized chatbot is not only present for customers in their availability but also it was giving the response to the customer in all the time zone all over the world mr sakamoto wouldn\\u2019t be happier for this feature scaling up business in globalization in the era of globalization what is more helpful than a chatbot it can be customized in any language it can be accessed by any human being residing in any part of the world and at the end of the day when that foreigner is happy with the buy and the felicitation and says \\u201carigato\\u201d but in his own language at that moment he feels so warm and happy handling a lot of customers is really hard he assigned employees but the rate is growing fast so in the competition of the market mr sakamoto took the help of a chatbot now this automated customized application is handling a greater number of customers than his employees can do his business is growing exponentially now when you found out why mr sakamoto is happy and his business is growing in this competitive industry then do you still have a question in mind that why does your business need a chatbot blackcoffer insights 20 aniket bhunia netaji subhash engineering college previous articlehow you lead a project or a team without any technical expertisenext articlepayroll analytics ajay bidyarthy related articlesmore from author ai bot audio to audio efficient supply chain assessment overcoming technical hurdles for web application development streamlined integration interactive brokers api with python for desktop trading application most popular insights marketing drives results with a focus on problems november 25 2019 rise of ott platform and its impact on entertainment industry by october 17 2022 azure data lake and power bi dashboard january 16 2022 coronavirus impact on the hospitality industry may 1 2020 load more recommended insights recommendation system architecture construction accounts payable payroll analytics in power bi industrial revolution 40 \\u2013 pros and cons rise of cybercrime and its effect by the year 2040 latest insights ai bot audio to audio april 3 2024 efficient supply chain assessment overcoming technical hurdles for web application development march 17 2024 streamlined integration interactive brokers api with python for desktop trading application march 17 2024 popular insights ai bot audio to audio april 3 2024 efficient supply chain assessment overcoming technical hurdles for web application development march 17 2024 streamlined integration interactive brokers api with python for desktop trading application march 17 2024 popular insights categoryour success stories197what we think178blackcoffer149it78artificial intelligence53healthcare52big data44lifestyle ecommerce online market place44 about us we provide intelligence accelerate innovation and implement technology with extraordinary breadth and depth global insights into the big datadatadriven dashboards applications development and information management for organizations through combining unique specialist services and highlvel human expertise contact us helloblackcoffercom follow us facebooklinkedintwitteryoutube \\u00a9 all right reserved blackcofferopc pvt ltd our success stories what we do what we think how to schedule demo contact\",\n          \"rise of telemedicine and its impact on livelihood by 2040 blackcoffer insights sign in our success stories banking financials securities and insurance energy entertainment fast moving consumer goods government think tanks healthcare infrastructure real estate it lifestyle ecommerce online market place production manufacturing research academia retail supply chain telecom what we do banking financials securities and insurance energy entertainment fast moving consumer goods government think tanks healthcare hospitality infrastructure real estate it services lifestyle ecommerce online market place news media production manufacturing research academia retail supply chain what we think automobiles components bfsi asset and portfolio banks capital markets derivatives and securities diversified financials finance accounting insurance securities and capital markets capital goods commercial professional services consumer discretionary consumer durables apparel consumer services consumer staples food staples retailing food beverage tobacco household personal products data science analytics artificial intelligence big data business analytics data visualization internet of things machine learning statistics energy dataoil how to analytics application development artificial intelligence business analytics example optimization projects software development source code audit statistics web mobile app development schedule demo contact sign in welcomelog into your account your username your password forgot your password password recovery recover your password your email search sign in welcome log into your account your username your password forgot your password get help password recovery recover your password your email a password will be emailed to you saturday june 1 2024 sign in join our success stories what we do what we think how to schedule demo contact facebooklinkedintwitteryoutube our success stories allbanking financials securities and insuranceenergyentertainmentfast moving consumer goodsgovernment think tankshealthcareinfrastructure real estateitlifestyle ecommerce online market placeproduction manufacturingresearch academia our success stories efficient supply chain assessment overcoming technical hurdles for web application development march 17 2024 our success stories streamlined integration interactive brokers api with python for desktop trading application march 17 2024 our success stories efficient data integration and userfriendly interface development navigating challenges in web application deployment march 17 2024 our success stories effective management of social media data extraction strategies for authentication security and reliability march 17 2024 what we do allbanking financials securities and insuranceenergyentertainmentfast moving consumer goodsgovernment think tankshealthcarehospitalityinfrastructure real estateit serviceslifestyle ecommerce online market placenews media what we do ai bot audio to audio april 3 2024 what we do methodology for etl discovery tool using llma openai langchain february 27 2024 what we do methodology for database discovery tool using openai llma langchain february 27 2024 what we do chatbot using voiceflow february 15 2024 what we think allautomobiles componentsbfsiasset and portfoliobankscapital marketsderivatives and securitiesdiversified financialsfinance accountinginsurancesecurities and capital marketscapital goods what we think rising it cities and its impact on the economy environment infrastructure and city life by the year 2040 august 24 2023 what we think rising it cities and their impact on the economy environment infrastructure and city life in future august 18 2023 what we think internet demand\\u2019s evolution communication impact and 2035\\u2019s alternative pathways august 18 2023 what we think rise of cybercrime and its effect in upcoming future august 18 2023 how to allanalyticsapplication developmentartificial intelligencebusiness analyticsexampleoptimizationprojectssoftware developmentsource code auditstatisticsweb mobile app development what we do aiml and predictive modeling february 3 2022 blackcoffer solution for contact centre problems april 26 2021 how to how to setup custom domain for google app engine application february 13 2021 how to code review checklist april 10 2020 schedule demo contact search home what we think rise of telemedicine and its impact on livelihood by 2040 blackcofferfutureforecastswhat we think rise of telemedicine and its impact on livelihood by 2040 by ajay bidyarthy january 2 2023 10692 \\u201cmore gains on quality affordability and accessibility are on the way\\u201d what do telemed means as the world evolves and advances so does technology which in turn impacts our daily lives one of that advancement is telemedicine it\\u2019s not an overnight change but more like how summer turns into fall \\u2013 gradual yet very perceptible we are now able to access healthcare remotely and this has huge implications for the way we access healthcare how will people be accessing healthcare services in 2040 i believe that telehealth services will become an essential part of our everyday lives and will be easily accessible from the comfort of our own homes but first of all what is telemedicine it is the use of telecommunications technology to transmit medical information between healthcare professionals and patients via mobile devices or computer tablets healthcare providers can use these devices to connect remotely with their patients to monitor their health remotely or to even treat them during emergencies without having to travel from one location to another role of telemed during a pandemic telemedicine\\u2019s ability to address inequities in access has been demonstrated during the pandemic the ubiquitous smartphone capable of video interactions can be a lifeline for underserved populations in rural areas with few mental health professionals for example intermountain\\u2019s\\u2019s ability to offer virtual visits gives patients prompt access to both emergency and routine care early in the covid19 pandemic telehealth usage surged as consumers and providers sought ways to safely access and deliver healthcare when the pandemic forced the closure of inperson clinics and offices psychologists and psychiatrists across the world quickly instituted virtual visits telemedicine visits remained popular even after restrictions eased intermountain patients receiving their care virtually reported high satisfaction and were less likely to cancel appointments than patients who had scheduled inperson visits advantages of telemed in today\\u2019s era patients with obscure or complex medical problems often find themselves living a twopronged nightmare there\\u2019s the pain and fear of having a rare disease and the frustration of trying to find the right specialist patients may bounce from one local physician to the next wasting weeks or months sitting through useless appointments and enduring sleepless nights telemedicine offers a far better solution virtual technology can connect patients with the most experienced and knowledgeable doctors regardless of where they practice by eliminating the barriers of time and distance telemedicine can help address two serious problems for patients with difficult diagnoses and rare diseases the first is misdiagnosis the second is long waits for a proper diagnosis and effective treatment plan rise of the telemedicine industry postpandemic source the indian express this stepchange borne out of necessity was enabled by these factors 1 increased consumer willingness to use telehealth 2 increased provider willingness to use telehealth and 3 regulatory changes enabling greater access and reimbursement during the tragedy of the pandemic telehealth offered a bridge to care and now offers a chance to reinvent virtual and hybrid virtualinperson care models with a goal of improved healthcare access outcomes and affordability our consumer research5 shows that consumers continue to view telehealth as an important modality for their future care needs but\\u2014as expected\\u2014this view varies widely depending on the type of care overall consumer perception tracks closely to what we believe is possible telehealth uptake by various specialties exhibit 2 around 40 percent of surveyed consumers stated that they believe they will continue to use telehealth going forward\\u2014up from 11 percent of consumers using telehealth before covid19 its impact on human beings over the years moreover our research shows between 40 and 60 percent of consumers express interest in a set of broader virtual health solutions such as a \\u201cdigital front door\\u201d or lowercost virtualfirst health plan6 however a gap has historically existed between consumers\\u2019 expressed interest in digital health solutions and actual usage continuing to focus on creating a seamless consumer interface breaking down silos in care provision across virtual and inperson with improved data integration and insights and proactive consumer engagement will all be important to sustaining and growing consumer use of virtual health as the pandemic wanes increasing both the frequency and the scope of virtual care nationwide would transform indian health improving the lives of patients who get sick during nights and weekends those with chronic and mental health issues and anyone who could benefit from virtual specialty care it could save tens of thousands of lives and hundreds of billions of dollars each year as of july 2021 we step back to review the progress of telehealth since the initial covid19 spike and to assess implications for telehealth and virtual health more broadly going forward the findings include the following insights \\u201c telehealth utilization has stabilized at levels 38x higher than before the pandemic similarly consumer and provider attitudes toward telehealth have improved since the precovid19 era investment in virtual care and digital health more broadly has skyrocketed fuelling further innovation virtual healthcare models and business models are evolving and proliferating\\u201d access to online primary care is growing rapidly but remains concentrated among younger patients and minorities despite the challenges ahead substantial opportunities lie ahead as we recover from the pandemic is the rise in telemed industry temporary or will keep growing the trend toward more virtual health care will continue as consumers become more comfortable with telehealth and demand more convenient ways to access care in some areas such as urgent care and specialty care patients are starting to shift their preferences toward online solutions moving forward there are several important challenges and opportunities to consider to ensure that the benefits of telehealth are widely accessible to patients and providers alike role of business leaders in achieving new model when creating a new model of health care the hard work is in the details and because a teledriven system will affect every aspect of care delivery developing one entails thousands of decisions medical and financial leaders will need to design shape and implement the processes by which care will be delivered and paid for the specifics of how best to do this are beyond the scope of this article but here are two major considerations reimbursement and care delivery requisites businesses will need to band together to achieve economies of scale and identify the right leadership in the surrounding medical community businesses might wonder whether creating a new health system merits the time and energy that would be required they should consider that rapidly rising medical costs will significantly affect their bottom lines even before covid19 struck sparking supply chain challenges and exacerbating the shortage of healthcare professionals experts predicted that healthcare spending would increase by 55 annually businesses can expect extremely high medicalcost inflation if nothing is done the time to act is now summing it up lowering medical costs while maximizing the health of employees is the best way for businesses to stay profitable and maintain a loyal workforce the pandemic has highlighted the opportunities that exist and the problems that will worsen if nothing changes done well the transition to a teledriven health system could be accomplished in a few years if left to chance it could take decades\\u2014if it happens at all the current crisis offers a unique opportunity to build a better future for our healthcare system but we must act quickly blackcoffer insights 46 mayank garg from rukmini devi institute of advanced studiesggsipu rohini delhi tagsaiartificial intelligencebig datablackcoffer previous articlerise of chatbots and its impact on customer support by the year 2040next articlerise of ehealth and its impact on humans by the year 2030 ajay bidyarthy related articlesmore from author ai bot audio to audio efficient supply chain assessment overcoming technical hurdles for web application development streamlined integration interactive brokers api with python for desktop trading application most popular insights big data solution to an online multivendor marketplace ecommerce business january 16 2022 methodology for database discovery tool using openai llma langchain february 27 2024 splitting of songs into its vocals and instrumental september 4 2021 role of big data in healthcare may 26 2017 load more recommended insights streamlined equity waterfall calculation and deal management system etl discovery tool using llma langchain openai an etl solution for currency data to google big query industrial revolution 40 \\u2013 pros and cons latest insights ai bot audio to audio april 3 2024 efficient supply chain assessment overcoming technical hurdles for web application development march 17 2024 streamlined integration interactive brokers api with python for desktop trading application march 17 2024 popular insights ai bot audio to audio april 3 2024 efficient supply chain assessment overcoming technical hurdles for web application development march 17 2024 streamlined integration interactive brokers api with python for desktop trading application march 17 2024 popular insights categoryour success stories197what we think178blackcoffer149it78artificial intelligence53healthcare52big data44lifestyle ecommerce online market place44 about us we provide intelligence accelerate innovation and implement technology with extraordinary breadth and depth global insights into the big datadatadriven dashboards applications development and information management for organizations through combining unique specialist services and highlvel human expertise contact us helloblackcoffercom follow us facebooklinkedintwitteryoutube \\u00a9 all right reserved blackcofferopc pvt ltd our success stories what we do what we think how to schedule demo contact\",\n          \"rise of chatbots and its impact on customer support by the year 2040 blackcoffer insights sign in our success stories banking financials securities and insurance energy entertainment fast moving consumer goods government think tanks healthcare infrastructure real estate it lifestyle ecommerce online market place production manufacturing research academia retail supply chain telecom what we do banking financials securities and insurance energy entertainment fast moving consumer goods government think tanks healthcare hospitality infrastructure real estate it services lifestyle ecommerce online market place news media production manufacturing research academia retail supply chain what we think automobiles components bfsi asset and portfolio banks capital markets derivatives and securities diversified financials finance accounting insurance securities and capital markets capital goods commercial professional services consumer discretionary consumer durables apparel consumer services consumer staples food staples retailing food beverage tobacco household personal products data science analytics artificial intelligence big data business analytics data visualization internet of things machine learning statistics energy dataoil how to analytics application development artificial intelligence business analytics example optimization projects software development source code audit statistics web mobile app development schedule demo contact sign in welcomelog into your account your username your password forgot your password password recovery recover your password your email search sign in welcome log into your account your username your password forgot your password get help password recovery recover your password your email a password will be emailed to you friday may 31 2024 sign in join our success stories what we do what we think how to schedule demo contact facebooklinkedintwitteryoutube our success stories allbanking financials securities and insuranceenergyentertainmentfast moving consumer goodsgovernment think tankshealthcareinfrastructure real estateitlifestyle ecommerce online market placeproduction manufacturingresearch academia our success stories efficient supply chain assessment overcoming technical hurdles for web application development march 17 2024 our success stories streamlined integration interactive brokers api with python for desktop trading application march 17 2024 our success stories efficient data integration and userfriendly interface development navigating challenges in web application deployment march 17 2024 our success stories effective management of social media data extraction strategies for authentication security and reliability march 17 2024 what we do allbanking financials securities and insuranceenergyentertainmentfast moving consumer goodsgovernment think tankshealthcarehospitalityinfrastructure real estateit serviceslifestyle ecommerce online market placenews media what we do ai bot audio to audio april 3 2024 what we do methodology for etl discovery tool using llma openai langchain february 27 2024 what we do methodology for database discovery tool using openai llma langchain february 27 2024 what we do chatbot using voiceflow february 15 2024 what we think allautomobiles componentsbfsiasset and portfoliobankscapital marketsderivatives and securitiesdiversified financialsfinance accountinginsurancesecurities and capital marketscapital goods what we think rising it cities and its impact on the economy environment infrastructure and city life by the year 2040 august 24 2023 what we think rising it cities and their impact on the economy environment infrastructure and city life in future august 18 2023 what we think internet demand\\u2019s evolution communication impact and 2035\\u2019s alternative pathways august 18 2023 what we think rise of cybercrime and its effect in upcoming future august 18 2023 how to allanalyticsapplication developmentartificial intelligencebusiness analyticsexampleoptimizationprojectssoftware developmentsource code auditstatisticsweb mobile app development what we do aiml and predictive modeling february 3 2022 blackcoffer solution for contact centre problems april 26 2021 how to how to setup custom domain for google app engine application february 13 2021 how to code review checklist april 10 2020 schedule demo contact search home blackcoffer rise of chatbots and its impact on customer support by the year blackcofferfutureforecastswhat we think rise of chatbots and its impact on customer support by the year 2040 by ajay bidyarthy january 2 2023 10586 the human race is known to come up with inventions that decide its future many scholars believe that artificial intelligenceai has been the most pioneering innovation since early humans discovered fire and invented the wheel the advancement of groundbreaking technologies such as artificial intelligence and machine learning ml have constantly been shaping the future of humankind the likes of mark zuckerberg have welcomed the evolution of ai he once stated \\u201cwith ai especially i am optimistic\\u201c while according to elon musk \\u201cai can outsmart and endanger us\\u201d however we simply cannot ignore how useful and influential ai is in our daily lives the applications of ai and ml have delved deeply into various domains the least to mention are healthcare transportation education media communication manufacturing and customer service businesses worldwide are placing a significant emphasis on enhancing their customers\\u2019 overall experiences as a result of ai a massive leap in customer experience service has come up with the evolution of chatbots what is a chatbot and how is it useful in business chatbots are aibased systems used by businesses for communication with customers customers can interact with chatbots directly via chat and voice applications numerous online customer service platforms are utilizing chatbots to manage bulk phone calls faqs and other common customer service inquiries chatbots resolve customer queries within no time and are accessible 24x7 enhancing the customer experience the use of technologies such as ai ml and nlp natural language processing enables the bot to analyze and identify the user\\u2019s problems and instantly give the most relevant answers to the queries platforms such as facebook messenger wechat discord and slack have been extensively using chatbots for better communication advantages of using chatbots and their impact on customer support there are numerous advantages of using chatbots in businesses chatbots can communicate with multiple customers at once they can be used to send regular updates about the products and exclusive offers by the company they are available throughout the day which is crucial for businesses that expand globally in different time zones it becomes too cumbersome for businesses to have customer care support centers at various locations across the world there is no human intervention involved therefore chatbots can be accessed worldwide anytime chatbots reply instantly and hence it increases customer engagement chatbots can also be extensively used to collect user data and analyze it further to provide customized solutions mlbased chatbot systems are learning from past conversations to generate more thoughtful replies roughly 40 of internet users around the globe prefer interacting with chatbots rather than virtual agents with leading sectors such as retail and healthcare rapidly turning towards digital technology chatbots will continue to grow in popularity in the years to come chatbot market trends and forecast about its impact on customer support by 2040 according to some reports it is anticipated that the size of the global chatbot market will expand at a compound annual growth rate cagr of approximately 26 from the years 2022 to 2030 in the year 2021 the chatbot market size was valued at a total of usd 525 million it is anticipated that the growing adoption of customer service activities among enterprises to reduce operating costs will be the primary factor driving the chatbot market in the past few years some of the most significant advances that have been made in artificial intelligence and machine learning have been in the areas of perception and cognition although there is much room for improvement in voice recognition technology the tech giants like apple amazon and google have all made significant strides in this direction with their digital assistants siri alexa and google assistant respectively deep learning systems are now actively utilized to decide trades accomplished on wall street and predict whether users will click on particular advertisements it has increased efficiency on both the consumer and the business side of things chatbots can help businesses save money by generating revenue conducting research generating leads and increasing brand awareness other uses for chatbots include research and lead generation given the trends of the data we can expect the chatbot industry to surpass the billiondollar mark in a few years hence by 2040 the chatbot industry would be having a multibillion dollar market value how are companies utilizing chatbots to provide superior support for their customers a comprehensive analysis that provides deep insights into the future of customer service in 2040 bank of america is responsible for creating one of the most groundbreaking innovations the recently introduced \\u201cerica\\u201d is intended to assist customers in making more informed choices regarding their finances customers can make payments check their balances save money and transfer funds with this chatbot which uses artificial intelligence algorithms and predictive messaging erica makes it possible for users to interact via text and voice and it then uses the information provided to push insights to the customer klm royal dutch airlines is another company incorporating chatbots into their customer service channel klm increased the number of customer interactions with the facebook messenger app by forty percent the airline wanted to facilitate more effortless conversations between its employees and passengers without compromising passengers\\u2019 right to personal privacy klm was aware that its customers spent a significant amount of time using facebook and messenger so the company decided to implement a chatbot as its platform for customer service messenger is now the channel through which customers can directly receive booking details boarding passes and flight status updates on a typical day klm receives an average of five messages per minute through facebook messenger during peak traffic that number jumps to over eleven messages per minute these innovations with chatbots will surely pave the way for the future by 2040 chatbots will completely revolutionize the customer experience domain challenges ahead there are apparent constraints with ai technology the absence of emotional intelligence restricts the range and depth of the conversation that can take place when aidriven chatbots are used with customers even though the chatbots can learn from and predict the behavior of the customers the availability of trained staff and their familiarity with this developing technology is another factor that can hinder the effectiveness of chatbots chatbots can have significant limitations when it comes to different languages and accents this restriction turns into a significant obstacle for companies that operate in more than one location maintaining the security of the customer\\u2019s data is also a key challenge conclusion even though chatbot technology has some limitations in how it can function there are innumerable advantages of using this technology in improving customer support the chatbot technology is potent enough to enhance customer support multifolds by 2040 the optimistic thing about this technology is that mlbased systems can learn from their own experiences and improve with time hence there is a high chance that chatbot technology is perhaps \\u201cthe next big thing\\u201d in the customer service domain blackcoffer insights 46 faizan raza btech from iit delhi tagsaichat and voicecommunicationcustomer serviceeducationhealthcaremachine learningmanufacturingmediamltransportation previous articleranking customer behaviours for business strategynext articlerise of telemedicine and its impact on livelihood by 2040 ajay bidyarthy related articlesmore from author ai bot audio to audio efficient supply chain assessment overcoming technical hurdles for web application development streamlined integration interactive brokers api with python for desktop trading application most popular insights advanced ai for handgun detection july 21 2023 how to access amazon seller central or vendor central data in march 3 2021 aws quicksight reporting dashboard january 16 2022 an etl solution for an internet publishing firm july 26 2023 load more recommended insights how does metaverse work in the financial sector ai bot audio to audio how to access amazon seller central or vendor central data in transforming insurance claim processing with automation artificial intelligence latest insights ai bot audio to audio april 3 2024 efficient supply chain assessment overcoming technical hurdles for web application development march 17 2024 streamlined integration interactive brokers api with python for desktop trading application march 17 2024 popular insights ai bot audio to audio april 3 2024 efficient supply chain assessment overcoming technical hurdles for web application development march 17 2024 streamlined integration interactive brokers api with python for desktop trading application march 17 2024 popular insights categoryour success stories197what we think178blackcoffer149it78artificial intelligence53healthcare52big data44lifestyle ecommerce online market place44 about us we provide intelligence accelerate innovation and implement technology with extraordinary breadth and depth global insights into the big datadatadriven dashboards applications development and information management for organizations through combining unique specialist services and highlvel human expertise contact us helloblackcoffercom follow us facebooklinkedintwitteryoutube \\u00a9 all right reserved blackcofferopc pvt ltd our success stories what we do what we think how to schedule demo contact\"\n        ],\n        \"semantic_type\": \"\",\n        \"description\": \"\"\n      }\n    }\n  ]\n}"
            }
          },
          "metadata": {},
          "execution_count": 24
        }
      ]
    },
    {
      "cell_type": "code",
      "source": [
        "#importing nltk library and stopwords\n",
        "import nltk\n",
        "import string\n"
      ],
      "metadata": {
        "id": "-7U9gTe66AB3"
      },
      "execution_count": 25,
      "outputs": []
    },
    {
      "cell_type": "code",
      "source": [
        "punc=[punc for punc in string.punctuation]"
      ],
      "metadata": {
        "id": "dux6ySpb6AEr"
      },
      "execution_count": 26,
      "outputs": []
    },
    {
      "cell_type": "code",
      "source": [
        "punc\n"
      ],
      "metadata": {
        "colab": {
          "base_uri": "https://localhost:8080/"
        },
        "id": "-6IF3Zeo6AHV",
        "outputId": "3f1e029a-5708-480f-d5eb-599c09cc6175"
      },
      "execution_count": 27,
      "outputs": [
        {
          "output_type": "execute_result",
          "data": {
            "text/plain": [
              "['!',\n",
              " '\"',\n",
              " '#',\n",
              " '$',\n",
              " '%',\n",
              " '&',\n",
              " \"'\",\n",
              " '(',\n",
              " ')',\n",
              " '*',\n",
              " '+',\n",
              " ',',\n",
              " '-',\n",
              " '.',\n",
              " '/',\n",
              " ':',\n",
              " ';',\n",
              " '<',\n",
              " '=',\n",
              " '>',\n",
              " '?',\n",
              " '@',\n",
              " '[',\n",
              " '\\\\',\n",
              " ']',\n",
              " '^',\n",
              " '_',\n",
              " '`',\n",
              " '{',\n",
              " '|',\n",
              " '}',\n",
              " '~']"
            ]
          },
          "metadata": {},
          "execution_count": 27
        }
      ]
    },
    {
      "cell_type": "code",
      "source": [
        "#importing stop words files that are provided\n",
        "StopWords_Auditor=pd.read_csv(\"\",header=None)\n",
        "StopWords_Currencies=pd.read_csv(\"\",header=None,encoding=\"ISO-8859-1\",sep='\\n' )\n",
        "StopWords_DatesandNumbers=pd.read_csv(\"\",header=None)\n",
        "StopWords_Generic=pd.read_csv(\"\",header=None)\n",
        "StopWords_GenericLong=pd.read_csv(\"\",header=None)\n",
        "StopWords_Geographic=pd.read_csv(\"\",header=None)\n",
        "StopWords_Names=pd.read_csv(\"\",header=None)\n"
      ],
      "metadata": {
        "id": "Hf-tECuK5a8z"
      },
      "execution_count": null,
      "outputs": []
    },
    {
      "cell_type": "code",
      "source": [
        "#importing nltk library and stopwords\n",
        "import nltk\n",
        "import string\n",
        "import pandas as pd #import pandas library for reading csv files\n",
        "punc=[punc for punc in string.punctuation]\n",
        "\n",
        "#importing stop words files that are provided\n",
        "StopWords_Auditor=pd.read_csv(\"/content/drive/MyDrive/imp/20211030 Test Assignment/StopWords/StopWords_Auditor.txt\",header=None)\n",
        "StopWords_Currencies=pd.read_csv(\"/content/drive/MyDrive/imp/20211030 Test Assignment/StopWords/StopWords_Currencies.txt\",header=None,encoding=\"ISO-8859-1\", sep='\\t') #remove sep='\\n' and add sep='\\t'\n",
        "StopWords_DatesandNumbers=pd.read_csv(\"/content/drive/MyDrive/imp/20211030 Test Assignment/StopWords/StopWords_DatesandNumbers.txt\",header=None)\n",
        "StopWords_Generic = pd.read_csv(\"/content/drive/MyDrive/imp/20211030 Test Assignment/StopWords/StopWords_Generic.txt\",header=None)\n",
        "StopWords_GenericLong = pd.read_csv(\"/content/drive/MyDrive/imp/20211030 Test Assignment/StopWords/StopWords_GenericLong.txt\",header=None)\n",
        "StopWords_Geographic = pd.read_csv(\"/content/drive/MyDrive/imp/20211030 Test Assignment/StopWords/StopWords_Geographic.txt\",header=None)\n",
        "StopWords_Names=pd.read_csv(\"/content/drive/MyDrive/imp/20211030 Test Assignment/StopWords/StopWords_Names.txt\",header=None)"
      ],
      "metadata": {
        "id": "Ak50_Rrm8jNG"
      },
      "execution_count": 37,
      "outputs": []
    },
    {
      "cell_type": "code",
      "source": [
        "#creating func for removing stop words\n",
        "def text_process(text):\n",
        "    nopunc =[char for char in text if char not in punc or char not in [':',',','(',')','’','?']]\n",
        "    nopunc=''.join(nopunc)\n",
        "    txt=' '.join([word for word in nopunc.split() if word.lower() not in StopWords_Auditor])\n",
        "    txt1=' '.join([word for word in txt.split() if word.lower() not in StopWords_Currencies])\n",
        "    txt2=' '.join([word for word in txt1.split() if word.lower() not in StopWords_DatesandNumbers])\n",
        "    txt3=' '.join([word for word in txt2.split() if word.lower() not in StopWords_Generic])\n",
        "    txt4=' '.join([word for word in txt3.split() if word.lower() not in StopWords_GenericLong])\n",
        "    txt5=' '.join([word for word in txt4.split() if word.lower() not in StopWords_Geographic])\n",
        "    return ' '.join([word for word in txt5.split() if word.lower() not in StopWords_Names])\n"
      ],
      "metadata": {
        "id": "EssqhEPV8jPw"
      },
      "execution_count": 38,
      "outputs": []
    },
    {
      "cell_type": "code",
      "source": [
        "#applying func for each row\n",
        "c['abc']=c['abc'].apply(text_process)"
      ],
      "metadata": {
        "id": "dzGYiensT-ks"
      },
      "execution_count": 39,
      "outputs": []
    },
    {
      "cell_type": "code",
      "source": [
        "c"
      ],
      "metadata": {
        "colab": {
          "base_uri": "https://localhost:8080/",
          "height": 423
        },
        "id": "KflrPu7kT-nf",
        "outputId": "630ad16e-08eb-4269-cae5-4ad011c748ff"
      },
      "execution_count": 40,
      "outputs": [
        {
          "output_type": "execute_result",
          "data": {
            "text/plain": [
              "                                                   abc\n",
              "0    rising it cities and its impact on the economy...\n",
              "1    rising it cities and their impact on the econo...\n",
              "2    internet demands evolution communication impac...\n",
              "3    rise of cybercrime and its effect in upcoming ...\n",
              "4    ott platform and its impact on the entertainme...\n",
              "..                                                 ...\n",
              "195  due to the covid19 the repercussion of the env...\n",
              "196  impact of covid19 pandemic on office space and...\n",
              "197  contribution of handicrafts visual arts litera...\n",
              "198  how covid19 is impacting payment preferences b...\n",
              "199  how will covid19 affect the world of work blac...\n",
              "\n",
              "[200 rows x 1 columns]"
            ],
            "text/html": [
              "\n",
              "  <div id=\"df-538aba02-7a21-4c65-a81c-b42d02639da9\" class=\"colab-df-container\">\n",
              "    <div>\n",
              "<style scoped>\n",
              "    .dataframe tbody tr th:only-of-type {\n",
              "        vertical-align: middle;\n",
              "    }\n",
              "\n",
              "    .dataframe tbody tr th {\n",
              "        vertical-align: top;\n",
              "    }\n",
              "\n",
              "    .dataframe thead th {\n",
              "        text-align: right;\n",
              "    }\n",
              "</style>\n",
              "<table border=\"1\" class=\"dataframe\">\n",
              "  <thead>\n",
              "    <tr style=\"text-align: right;\">\n",
              "      <th></th>\n",
              "      <th>abc</th>\n",
              "    </tr>\n",
              "  </thead>\n",
              "  <tbody>\n",
              "    <tr>\n",
              "      <th>0</th>\n",
              "      <td>rising it cities and its impact on the economy...</td>\n",
              "    </tr>\n",
              "    <tr>\n",
              "      <th>1</th>\n",
              "      <td>rising it cities and their impact on the econo...</td>\n",
              "    </tr>\n",
              "    <tr>\n",
              "      <th>2</th>\n",
              "      <td>internet demands evolution communication impac...</td>\n",
              "    </tr>\n",
              "    <tr>\n",
              "      <th>3</th>\n",
              "      <td>rise of cybercrime and its effect in upcoming ...</td>\n",
              "    </tr>\n",
              "    <tr>\n",
              "      <th>4</th>\n",
              "      <td>ott platform and its impact on the entertainme...</td>\n",
              "    </tr>\n",
              "    <tr>\n",
              "      <th>...</th>\n",
              "      <td>...</td>\n",
              "    </tr>\n",
              "    <tr>\n",
              "      <th>195</th>\n",
              "      <td>due to the covid19 the repercussion of the env...</td>\n",
              "    </tr>\n",
              "    <tr>\n",
              "      <th>196</th>\n",
              "      <td>impact of covid19 pandemic on office space and...</td>\n",
              "    </tr>\n",
              "    <tr>\n",
              "      <th>197</th>\n",
              "      <td>contribution of handicrafts visual arts litera...</td>\n",
              "    </tr>\n",
              "    <tr>\n",
              "      <th>198</th>\n",
              "      <td>how covid19 is impacting payment preferences b...</td>\n",
              "    </tr>\n",
              "    <tr>\n",
              "      <th>199</th>\n",
              "      <td>how will covid19 affect the world of work blac...</td>\n",
              "    </tr>\n",
              "  </tbody>\n",
              "</table>\n",
              "<p>200 rows × 1 columns</p>\n",
              "</div>\n",
              "    <div class=\"colab-df-buttons\">\n",
              "\n",
              "  <div class=\"colab-df-container\">\n",
              "    <button class=\"colab-df-convert\" onclick=\"convertToInteractive('df-538aba02-7a21-4c65-a81c-b42d02639da9')\"\n",
              "            title=\"Convert this dataframe to an interactive table.\"\n",
              "            style=\"display:none;\">\n",
              "\n",
              "  <svg xmlns=\"http://www.w3.org/2000/svg\" height=\"24px\" viewBox=\"0 -960 960 960\">\n",
              "    <path d=\"M120-120v-720h720v720H120Zm60-500h600v-160H180v160Zm220 220h160v-160H400v160Zm0 220h160v-160H400v160ZM180-400h160v-160H180v160Zm440 0h160v-160H620v160ZM180-180h160v-160H180v160Zm440 0h160v-160H620v160Z\"/>\n",
              "  </svg>\n",
              "    </button>\n",
              "\n",
              "  <style>\n",
              "    .colab-df-container {\n",
              "      display:flex;\n",
              "      gap: 12px;\n",
              "    }\n",
              "\n",
              "    .colab-df-convert {\n",
              "      background-color: #E8F0FE;\n",
              "      border: none;\n",
              "      border-radius: 50%;\n",
              "      cursor: pointer;\n",
              "      display: none;\n",
              "      fill: #1967D2;\n",
              "      height: 32px;\n",
              "      padding: 0 0 0 0;\n",
              "      width: 32px;\n",
              "    }\n",
              "\n",
              "    .colab-df-convert:hover {\n",
              "      background-color: #E2EBFA;\n",
              "      box-shadow: 0px 1px 2px rgba(60, 64, 67, 0.3), 0px 1px 3px 1px rgba(60, 64, 67, 0.15);\n",
              "      fill: #174EA6;\n",
              "    }\n",
              "\n",
              "    .colab-df-buttons div {\n",
              "      margin-bottom: 4px;\n",
              "    }\n",
              "\n",
              "    [theme=dark] .colab-df-convert {\n",
              "      background-color: #3B4455;\n",
              "      fill: #D2E3FC;\n",
              "    }\n",
              "\n",
              "    [theme=dark] .colab-df-convert:hover {\n",
              "      background-color: #434B5C;\n",
              "      box-shadow: 0px 1px 3px 1px rgba(0, 0, 0, 0.15);\n",
              "      filter: drop-shadow(0px 1px 2px rgba(0, 0, 0, 0.3));\n",
              "      fill: #FFFFFF;\n",
              "    }\n",
              "  </style>\n",
              "\n",
              "    <script>\n",
              "      const buttonEl =\n",
              "        document.querySelector('#df-538aba02-7a21-4c65-a81c-b42d02639da9 button.colab-df-convert');\n",
              "      buttonEl.style.display =\n",
              "        google.colab.kernel.accessAllowed ? 'block' : 'none';\n",
              "\n",
              "      async function convertToInteractive(key) {\n",
              "        const element = document.querySelector('#df-538aba02-7a21-4c65-a81c-b42d02639da9');\n",
              "        const dataTable =\n",
              "          await google.colab.kernel.invokeFunction('convertToInteractive',\n",
              "                                                    [key], {});\n",
              "        if (!dataTable) return;\n",
              "\n",
              "        const docLinkHtml = 'Like what you see? Visit the ' +\n",
              "          '<a target=\"_blank\" href=https://colab.research.google.com/notebooks/data_table.ipynb>data table notebook</a>'\n",
              "          + ' to learn more about interactive tables.';\n",
              "        element.innerHTML = '';\n",
              "        dataTable['output_type'] = 'display_data';\n",
              "        await google.colab.output.renderOutput(dataTable, element);\n",
              "        const docLink = document.createElement('div');\n",
              "        docLink.innerHTML = docLinkHtml;\n",
              "        element.appendChild(docLink);\n",
              "      }\n",
              "    </script>\n",
              "  </div>\n",
              "\n",
              "\n",
              "<div id=\"df-9af760fa-d9f5-4ff5-9a66-6a0f5f2f348b\">\n",
              "  <button class=\"colab-df-quickchart\" onclick=\"quickchart('df-9af760fa-d9f5-4ff5-9a66-6a0f5f2f348b')\"\n",
              "            title=\"Suggest charts\"\n",
              "            style=\"display:none;\">\n",
              "\n",
              "<svg xmlns=\"http://www.w3.org/2000/svg\" height=\"24px\"viewBox=\"0 0 24 24\"\n",
              "     width=\"24px\">\n",
              "    <g>\n",
              "        <path d=\"M19 3H5c-1.1 0-2 .9-2 2v14c0 1.1.9 2 2 2h14c1.1 0 2-.9 2-2V5c0-1.1-.9-2-2-2zM9 17H7v-7h2v7zm4 0h-2V7h2v10zm4 0h-2v-4h2v4z\"/>\n",
              "    </g>\n",
              "</svg>\n",
              "  </button>\n",
              "\n",
              "<style>\n",
              "  .colab-df-quickchart {\n",
              "      --bg-color: #E8F0FE;\n",
              "      --fill-color: #1967D2;\n",
              "      --hover-bg-color: #E2EBFA;\n",
              "      --hover-fill-color: #174EA6;\n",
              "      --disabled-fill-color: #AAA;\n",
              "      --disabled-bg-color: #DDD;\n",
              "  }\n",
              "\n",
              "  [theme=dark] .colab-df-quickchart {\n",
              "      --bg-color: #3B4455;\n",
              "      --fill-color: #D2E3FC;\n",
              "      --hover-bg-color: #434B5C;\n",
              "      --hover-fill-color: #FFFFFF;\n",
              "      --disabled-bg-color: #3B4455;\n",
              "      --disabled-fill-color: #666;\n",
              "  }\n",
              "\n",
              "  .colab-df-quickchart {\n",
              "    background-color: var(--bg-color);\n",
              "    border: none;\n",
              "    border-radius: 50%;\n",
              "    cursor: pointer;\n",
              "    display: none;\n",
              "    fill: var(--fill-color);\n",
              "    height: 32px;\n",
              "    padding: 0;\n",
              "    width: 32px;\n",
              "  }\n",
              "\n",
              "  .colab-df-quickchart:hover {\n",
              "    background-color: var(--hover-bg-color);\n",
              "    box-shadow: 0 1px 2px rgba(60, 64, 67, 0.3), 0 1px 3px 1px rgba(60, 64, 67, 0.15);\n",
              "    fill: var(--button-hover-fill-color);\n",
              "  }\n",
              "\n",
              "  .colab-df-quickchart-complete:disabled,\n",
              "  .colab-df-quickchart-complete:disabled:hover {\n",
              "    background-color: var(--disabled-bg-color);\n",
              "    fill: var(--disabled-fill-color);\n",
              "    box-shadow: none;\n",
              "  }\n",
              "\n",
              "  .colab-df-spinner {\n",
              "    border: 2px solid var(--fill-color);\n",
              "    border-color: transparent;\n",
              "    border-bottom-color: var(--fill-color);\n",
              "    animation:\n",
              "      spin 1s steps(1) infinite;\n",
              "  }\n",
              "\n",
              "  @keyframes spin {\n",
              "    0% {\n",
              "      border-color: transparent;\n",
              "      border-bottom-color: var(--fill-color);\n",
              "      border-left-color: var(--fill-color);\n",
              "    }\n",
              "    20% {\n",
              "      border-color: transparent;\n",
              "      border-left-color: var(--fill-color);\n",
              "      border-top-color: var(--fill-color);\n",
              "    }\n",
              "    30% {\n",
              "      border-color: transparent;\n",
              "      border-left-color: var(--fill-color);\n",
              "      border-top-color: var(--fill-color);\n",
              "      border-right-color: var(--fill-color);\n",
              "    }\n",
              "    40% {\n",
              "      border-color: transparent;\n",
              "      border-right-color: var(--fill-color);\n",
              "      border-top-color: var(--fill-color);\n",
              "    }\n",
              "    60% {\n",
              "      border-color: transparent;\n",
              "      border-right-color: var(--fill-color);\n",
              "    }\n",
              "    80% {\n",
              "      border-color: transparent;\n",
              "      border-right-color: var(--fill-color);\n",
              "      border-bottom-color: var(--fill-color);\n",
              "    }\n",
              "    90% {\n",
              "      border-color: transparent;\n",
              "      border-bottom-color: var(--fill-color);\n",
              "    }\n",
              "  }\n",
              "</style>\n",
              "\n",
              "  <script>\n",
              "    async function quickchart(key) {\n",
              "      const quickchartButtonEl =\n",
              "        document.querySelector('#' + key + ' button');\n",
              "      quickchartButtonEl.disabled = true;  // To prevent multiple clicks.\n",
              "      quickchartButtonEl.classList.add('colab-df-spinner');\n",
              "      try {\n",
              "        const charts = await google.colab.kernel.invokeFunction(\n",
              "            'suggestCharts', [key], {});\n",
              "      } catch (error) {\n",
              "        console.error('Error during call to suggestCharts:', error);\n",
              "      }\n",
              "      quickchartButtonEl.classList.remove('colab-df-spinner');\n",
              "      quickchartButtonEl.classList.add('colab-df-quickchart-complete');\n",
              "    }\n",
              "    (() => {\n",
              "      let quickchartButtonEl =\n",
              "        document.querySelector('#df-9af760fa-d9f5-4ff5-9a66-6a0f5f2f348b button');\n",
              "      quickchartButtonEl.style.display =\n",
              "        google.colab.kernel.accessAllowed ? 'block' : 'none';\n",
              "    })();\n",
              "  </script>\n",
              "</div>\n",
              "\n",
              "  <div id=\"id_06a49ab9-de50-448a-92a1-ae4ef136658b\">\n",
              "    <style>\n",
              "      .colab-df-generate {\n",
              "        background-color: #E8F0FE;\n",
              "        border: none;\n",
              "        border-radius: 50%;\n",
              "        cursor: pointer;\n",
              "        display: none;\n",
              "        fill: #1967D2;\n",
              "        height: 32px;\n",
              "        padding: 0 0 0 0;\n",
              "        width: 32px;\n",
              "      }\n",
              "\n",
              "      .colab-df-generate:hover {\n",
              "        background-color: #E2EBFA;\n",
              "        box-shadow: 0px 1px 2px rgba(60, 64, 67, 0.3), 0px 1px 3px 1px rgba(60, 64, 67, 0.15);\n",
              "        fill: #174EA6;\n",
              "      }\n",
              "\n",
              "      [theme=dark] .colab-df-generate {\n",
              "        background-color: #3B4455;\n",
              "        fill: #D2E3FC;\n",
              "      }\n",
              "\n",
              "      [theme=dark] .colab-df-generate:hover {\n",
              "        background-color: #434B5C;\n",
              "        box-shadow: 0px 1px 3px 1px rgba(0, 0, 0, 0.15);\n",
              "        filter: drop-shadow(0px 1px 2px rgba(0, 0, 0, 0.3));\n",
              "        fill: #FFFFFF;\n",
              "      }\n",
              "    </style>\n",
              "    <button class=\"colab-df-generate\" onclick=\"generateWithVariable('c')\"\n",
              "            title=\"Generate code using this dataframe.\"\n",
              "            style=\"display:none;\">\n",
              "\n",
              "  <svg xmlns=\"http://www.w3.org/2000/svg\" height=\"24px\"viewBox=\"0 0 24 24\"\n",
              "       width=\"24px\">\n",
              "    <path d=\"M7,19H8.4L18.45,9,17,7.55,7,17.6ZM5,21V16.75L18.45,3.32a2,2,0,0,1,2.83,0l1.4,1.43a1.91,1.91,0,0,1,.58,1.4,1.91,1.91,0,0,1-.58,1.4L9.25,21ZM18.45,9,17,7.55Zm-12,3A5.31,5.31,0,0,0,4.9,8.1,5.31,5.31,0,0,0,1,6.5,5.31,5.31,0,0,0,4.9,4.9,5.31,5.31,0,0,0,6.5,1,5.31,5.31,0,0,0,8.1,4.9,5.31,5.31,0,0,0,12,6.5,5.46,5.46,0,0,0,6.5,12Z\"/>\n",
              "  </svg>\n",
              "    </button>\n",
              "    <script>\n",
              "      (() => {\n",
              "      const buttonEl =\n",
              "        document.querySelector('#id_06a49ab9-de50-448a-92a1-ae4ef136658b button.colab-df-generate');\n",
              "      buttonEl.style.display =\n",
              "        google.colab.kernel.accessAllowed ? 'block' : 'none';\n",
              "\n",
              "      buttonEl.onclick = () => {\n",
              "        google.colab.notebook.generateWithVariable('c');\n",
              "      }\n",
              "      })();\n",
              "    </script>\n",
              "  </div>\n",
              "\n",
              "    </div>\n",
              "  </div>\n"
            ],
            "application/vnd.google.colaboratory.intrinsic+json": {
              "type": "dataframe",
              "variable_name": "c",
              "summary": "{\n  \"name\": \"c\",\n  \"rows\": 200,\n  \"fields\": [\n    {\n      \"column\": \"abc\",\n      \"properties\": {\n        \"dtype\": \"string\",\n        \"num_unique_values\": 198,\n        \"samples\": [\n          \"why does your business need a chatbot blackcoffer insights sign in our success stories banking financials securities and insurance energy entertainment fast moving consumer goods government think tanks healthcare infrastructure real estate it lifestyle ecommerce online market place production manufacturing research academia retail supply chain telecom what we do banking financials securities and insurance energy entertainment fast moving consumer goods government think tanks healthcare hospitality infrastructure real estate it services lifestyle ecommerce online market place news media production manufacturing research academia retail supply chain what we think automobiles components bfsi asset and portfolio banks capital markets derivatives and securities diversified financials finance accounting insurance securities and capital markets capital goods commercial professional services consumer discretionary consumer durables apparel consumer services consumer staples food staples retailing food beverage tobacco household personal products data science analytics artificial intelligence big data business analytics data visualization internet of things machine learning statistics energy dataoil how to analytics application development artificial intelligence business analytics example optimization projects software development source code audit statistics web mobile app development schedule demo contact sign in welcomelog into your account your username your password forgot your password password recovery recover your password your email search sign in welcome log into your account your username your password forgot your password get help password recovery recover your password your email a password will be emailed to you friday may 31 2024 sign in join our success stories what we do what we think how to schedule demo contact facebooklinkedintwitteryoutube our success stories allbanking financials securities and insuranceenergyentertainmentfast moving consumer goodsgovernment think tankshealthcareinfrastructure real estateitlifestyle ecommerce online market placeproduction manufacturingresearch academia our success stories efficient supply chain assessment overcoming technical hurdles for web application development march 17 2024 our success stories streamlined integration interactive brokers api with python for desktop trading application march 17 2024 our success stories efficient data integration and userfriendly interface development navigating challenges in web application deployment march 17 2024 our success stories effective management of social media data extraction strategies for authentication security and reliability march 17 2024 what we do allbanking financials securities and insuranceenergyentertainmentfast moving consumer goodsgovernment think tankshealthcarehospitalityinfrastructure real estateit serviceslifestyle ecommerce online market placenews media what we do ai bot audio to audio april 3 2024 what we do methodology for etl discovery tool using llma openai langchain february 27 2024 what we do methodology for database discovery tool using openai llma langchain february 27 2024 what we do chatbot using voiceflow february 15 2024 what we think allautomobiles componentsbfsiasset and portfoliobankscapital marketsderivatives and securitiesdiversified financialsfinance accountinginsurancesecurities and capital marketscapital goods what we think rising it cities and its impact on the economy environment infrastructure and city life by the year 2040 august 24 2023 what we think rising it cities and their impact on the economy environment infrastructure and city life in future august 18 2023 what we think internet demand\\u2019s evolution communication impact and 2035\\u2019s alternative pathways august 18 2023 what we think rise of cybercrime and its effect in upcoming future august 18 2023 how to allanalyticsapplication developmentartificial intelligencebusiness analyticsexampleoptimizationprojectssoftware developmentsource code auditstatisticsweb mobile app development what we do aiml and predictive modeling february 3 2022 blackcoffer solution for contact centre problems april 26 2021 how to how to setup custom domain for google app engine application february 13 2021 how to code review checklist april 10 2020 schedule demo contact search home what we think why does your business need a chatbot data scienceartificial intelligenceblackcofferwhat we think why does your business need a chatbot by ajay bidyarthy september 22 2020 19663 mr sakamoto is a bonsai artist lives downtown kyoto japan bonsai is a japanese art form that is the cultivation of small trees in a small or medium container he is in this field of business for the last ten years and he loves what he does on a daily basis people from different cities in japan come to buy his artwork but in the early stage of his business he was just another regular bosai artist his popularity has increased because of the stories he tells for every art he is selling his customer immediately loved him for this while buying a bonsai art he loved to sell his customer with his artwork and a story related to that product which resurrects his presence through his art in customers soon enough his business thrived and nowadays he is always busy after the digital revolution although his sales increased he was not happy he was not satisfied something is eating up his mind day by day he could not understand what\\u2019s the reason behind his remorse a chatbot is an awesome invention of the digital revolution it is the reallife embodiment of customer engagement every business needs this feature will be an understatement because customer engagement is the base of any business the chatbot does the exact thing digitally it helps customers to answer the queries and tell about the product that the business has to offer is a fully automated way with vibrant customizations mr sakamoto is running his business for the last fifteen years now and now he is happy that he was not for the past couple of years the rationale behind his happiness is the chatbot though he has a website and app to sell his bonsai art he could not engage with the customers in the way he wanted to he has trained his employees and apprentices but they are not providing the same service in the way he does he was unsatisfied and the chatbot relives him from his sadness he has done all that at affordable prices in no time let\\u2019s understand the mr sakamoto\\u2019s \\u201cmondai nai\\u201d perspective about why chatbot is the answer of his problems building the trust with customers this is the fundamental and root cause for which mr sakamoto has to implement the chatbot in the first place his stories are embedded with each art the product which he sells needs this story to be with it his stories which were not been told to all the customers before are now sharing with this chatbot and building the trust between them we all can agree on this one statement that trust is the most impactful aspect maybe the best of aspects in the relation between any customer and businessowner whether the business is small medium or large target the millennial customer millennials a word that was not introduced before 1990 the generation which is stuck in between genx and geny a generation of people accustomed to both digitization and old culture they are the most targeted audience in this era what else would be more approachable to this generation than a chatbot it\\u2019s easy less time consuming to use mr sakamoto is now one of the few genx persons who can do business with the millennial so easily better human interactions mr sakamoto has some employees and apprentices he has trained them as per his needs but there is a limit they can\\u2019t deliver the exact things that he can or the way he does neither chatbot can do that exactly it will accurately follow the instructions not only the chatbot solve the queries of the customer in his way but also give a recommendation to the product in the way he wants too is there any more attribute he would care about that absolutely no 247 service the most expensive thing for any businessman is the return of their customer with an empty hand because of his unavailability a chatbot is a perfect way to solve it for mr sakamoto\\u2019s customized chatbot is not only present for customers in their availability but also it was giving the response to the customer in all the time zone all over the world mr sakamoto wouldn\\u2019t be happier for this feature scaling up business in globalization in the era of globalization what is more helpful than a chatbot it can be customized in any language it can be accessed by any human being residing in any part of the world and at the end of the day when that foreigner is happy with the buy and the felicitation and says \\u201carigato\\u201d but in his own language at that moment he feels so warm and happy handling a lot of customers is really hard he assigned employees but the rate is growing fast so in the competition of the market mr sakamoto took the help of a chatbot now this automated customized application is handling a greater number of customers than his employees can do his business is growing exponentially now when you found out why mr sakamoto is happy and his business is growing in this competitive industry then do you still have a question in mind that why does your business need a chatbot blackcoffer insights 20 aniket bhunia netaji subhash engineering college previous articlehow you lead a project or a team without any technical expertisenext articlepayroll analytics ajay bidyarthy related articlesmore from author ai bot audio to audio efficient supply chain assessment overcoming technical hurdles for web application development streamlined integration interactive brokers api with python for desktop trading application most popular insights marketing drives results with a focus on problems november 25 2019 rise of ott platform and its impact on entertainment industry by october 17 2022 azure data lake and power bi dashboard january 16 2022 coronavirus impact on the hospitality industry may 1 2020 load more recommended insights recommendation system architecture construction accounts payable payroll analytics in power bi industrial revolution 40 \\u2013 pros and cons rise of cybercrime and its effect by the year 2040 latest insights ai bot audio to audio april 3 2024 efficient supply chain assessment overcoming technical hurdles for web application development march 17 2024 streamlined integration interactive brokers api with python for desktop trading application march 17 2024 popular insights ai bot audio to audio april 3 2024 efficient supply chain assessment overcoming technical hurdles for web application development march 17 2024 streamlined integration interactive brokers api with python for desktop trading application march 17 2024 popular insights categoryour success stories197what we think178blackcoffer149it78artificial intelligence53healthcare52big data44lifestyle ecommerce online market place44 about us we provide intelligence accelerate innovation and implement technology with extraordinary breadth and depth global insights into the big datadatadriven dashboards applications development and information management for organizations through combining unique specialist services and highlvel human expertise contact us helloblackcoffercom follow us facebooklinkedintwitteryoutube \\u00a9 all right reserved blackcofferopc pvt ltd our success stories what we do what we think how to schedule demo contact\",\n          \"rise of telemedicine and its impact on livelihood by 2040 blackcoffer insights sign in our success stories banking financials securities and insurance energy entertainment fast moving consumer goods government think tanks healthcare infrastructure real estate it lifestyle ecommerce online market place production manufacturing research academia retail supply chain telecom what we do banking financials securities and insurance energy entertainment fast moving consumer goods government think tanks healthcare hospitality infrastructure real estate it services lifestyle ecommerce online market place news media production manufacturing research academia retail supply chain what we think automobiles components bfsi asset and portfolio banks capital markets derivatives and securities diversified financials finance accounting insurance securities and capital markets capital goods commercial professional services consumer discretionary consumer durables apparel consumer services consumer staples food staples retailing food beverage tobacco household personal products data science analytics artificial intelligence big data business analytics data visualization internet of things machine learning statistics energy dataoil how to analytics application development artificial intelligence business analytics example optimization projects software development source code audit statistics web mobile app development schedule demo contact sign in welcomelog into your account your username your password forgot your password password recovery recover your password your email search sign in welcome log into your account your username your password forgot your password get help password recovery recover your password your email a password will be emailed to you saturday june 1 2024 sign in join our success stories what we do what we think how to schedule demo contact facebooklinkedintwitteryoutube our success stories allbanking financials securities and insuranceenergyentertainmentfast moving consumer goodsgovernment think tankshealthcareinfrastructure real estateitlifestyle ecommerce online market placeproduction manufacturingresearch academia our success stories efficient supply chain assessment overcoming technical hurdles for web application development march 17 2024 our success stories streamlined integration interactive brokers api with python for desktop trading application march 17 2024 our success stories efficient data integration and userfriendly interface development navigating challenges in web application deployment march 17 2024 our success stories effective management of social media data extraction strategies for authentication security and reliability march 17 2024 what we do allbanking financials securities and insuranceenergyentertainmentfast moving consumer goodsgovernment think tankshealthcarehospitalityinfrastructure real estateit serviceslifestyle ecommerce online market placenews media what we do ai bot audio to audio april 3 2024 what we do methodology for etl discovery tool using llma openai langchain february 27 2024 what we do methodology for database discovery tool using openai llma langchain february 27 2024 what we do chatbot using voiceflow february 15 2024 what we think allautomobiles componentsbfsiasset and portfoliobankscapital marketsderivatives and securitiesdiversified financialsfinance accountinginsurancesecurities and capital marketscapital goods what we think rising it cities and its impact on the economy environment infrastructure and city life by the year 2040 august 24 2023 what we think rising it cities and their impact on the economy environment infrastructure and city life in future august 18 2023 what we think internet demand\\u2019s evolution communication impact and 2035\\u2019s alternative pathways august 18 2023 what we think rise of cybercrime and its effect in upcoming future august 18 2023 how to allanalyticsapplication developmentartificial intelligencebusiness analyticsexampleoptimizationprojectssoftware developmentsource code auditstatisticsweb mobile app development what we do aiml and predictive modeling february 3 2022 blackcoffer solution for contact centre problems april 26 2021 how to how to setup custom domain for google app engine application february 13 2021 how to code review checklist april 10 2020 schedule demo contact search home what we think rise of telemedicine and its impact on livelihood by 2040 blackcofferfutureforecastswhat we think rise of telemedicine and its impact on livelihood by 2040 by ajay bidyarthy january 2 2023 10692 \\u201cmore gains on quality affordability and accessibility are on the way\\u201d what do telemed means as the world evolves and advances so does technology which in turn impacts our daily lives one of that advancement is telemedicine it\\u2019s not an overnight change but more like how summer turns into fall \\u2013 gradual yet very perceptible we are now able to access healthcare remotely and this has huge implications for the way we access healthcare how will people be accessing healthcare services in 2040 i believe that telehealth services will become an essential part of our everyday lives and will be easily accessible from the comfort of our own homes but first of all what is telemedicine it is the use of telecommunications technology to transmit medical information between healthcare professionals and patients via mobile devices or computer tablets healthcare providers can use these devices to connect remotely with their patients to monitor their health remotely or to even treat them during emergencies without having to travel from one location to another role of telemed during a pandemic telemedicine\\u2019s ability to address inequities in access has been demonstrated during the pandemic the ubiquitous smartphone capable of video interactions can be a lifeline for underserved populations in rural areas with few mental health professionals for example intermountain\\u2019s\\u2019s ability to offer virtual visits gives patients prompt access to both emergency and routine care early in the covid19 pandemic telehealth usage surged as consumers and providers sought ways to safely access and deliver healthcare when the pandemic forced the closure of inperson clinics and offices psychologists and psychiatrists across the world quickly instituted virtual visits telemedicine visits remained popular even after restrictions eased intermountain patients receiving their care virtually reported high satisfaction and were less likely to cancel appointments than patients who had scheduled inperson visits advantages of telemed in today\\u2019s era patients with obscure or complex medical problems often find themselves living a twopronged nightmare there\\u2019s the pain and fear of having a rare disease and the frustration of trying to find the right specialist patients may bounce from one local physician to the next wasting weeks or months sitting through useless appointments and enduring sleepless nights telemedicine offers a far better solution virtual technology can connect patients with the most experienced and knowledgeable doctors regardless of where they practice by eliminating the barriers of time and distance telemedicine can help address two serious problems for patients with difficult diagnoses and rare diseases the first is misdiagnosis the second is long waits for a proper diagnosis and effective treatment plan rise of the telemedicine industry postpandemic source the indian express this stepchange borne out of necessity was enabled by these factors 1 increased consumer willingness to use telehealth 2 increased provider willingness to use telehealth and 3 regulatory changes enabling greater access and reimbursement during the tragedy of the pandemic telehealth offered a bridge to care and now offers a chance to reinvent virtual and hybrid virtualinperson care models with a goal of improved healthcare access outcomes and affordability our consumer research5 shows that consumers continue to view telehealth as an important modality for their future care needs but\\u2014as expected\\u2014this view varies widely depending on the type of care overall consumer perception tracks closely to what we believe is possible telehealth uptake by various specialties exhibit 2 around 40 percent of surveyed consumers stated that they believe they will continue to use telehealth going forward\\u2014up from 11 percent of consumers using telehealth before covid19 its impact on human beings over the years moreover our research shows between 40 and 60 percent of consumers express interest in a set of broader virtual health solutions such as a \\u201cdigital front door\\u201d or lowercost virtualfirst health plan6 however a gap has historically existed between consumers\\u2019 expressed interest in digital health solutions and actual usage continuing to focus on creating a seamless consumer interface breaking down silos in care provision across virtual and inperson with improved data integration and insights and proactive consumer engagement will all be important to sustaining and growing consumer use of virtual health as the pandemic wanes increasing both the frequency and the scope of virtual care nationwide would transform indian health improving the lives of patients who get sick during nights and weekends those with chronic and mental health issues and anyone who could benefit from virtual specialty care it could save tens of thousands of lives and hundreds of billions of dollars each year as of july 2021 we step back to review the progress of telehealth since the initial covid19 spike and to assess implications for telehealth and virtual health more broadly going forward the findings include the following insights \\u201c telehealth utilization has stabilized at levels 38x higher than before the pandemic similarly consumer and provider attitudes toward telehealth have improved since the precovid19 era investment in virtual care and digital health more broadly has skyrocketed fuelling further innovation virtual healthcare models and business models are evolving and proliferating\\u201d access to online primary care is growing rapidly but remains concentrated among younger patients and minorities despite the challenges ahead substantial opportunities lie ahead as we recover from the pandemic is the rise in telemed industry temporary or will keep growing the trend toward more virtual health care will continue as consumers become more comfortable with telehealth and demand more convenient ways to access care in some areas such as urgent care and specialty care patients are starting to shift their preferences toward online solutions moving forward there are several important challenges and opportunities to consider to ensure that the benefits of telehealth are widely accessible to patients and providers alike role of business leaders in achieving new model when creating a new model of health care the hard work is in the details and because a teledriven system will affect every aspect of care delivery developing one entails thousands of decisions medical and financial leaders will need to design shape and implement the processes by which care will be delivered and paid for the specifics of how best to do this are beyond the scope of this article but here are two major considerations reimbursement and care delivery requisites businesses will need to band together to achieve economies of scale and identify the right leadership in the surrounding medical community businesses might wonder whether creating a new health system merits the time and energy that would be required they should consider that rapidly rising medical costs will significantly affect their bottom lines even before covid19 struck sparking supply chain challenges and exacerbating the shortage of healthcare professionals experts predicted that healthcare spending would increase by 55 annually businesses can expect extremely high medicalcost inflation if nothing is done the time to act is now summing it up lowering medical costs while maximizing the health of employees is the best way for businesses to stay profitable and maintain a loyal workforce the pandemic has highlighted the opportunities that exist and the problems that will worsen if nothing changes done well the transition to a teledriven health system could be accomplished in a few years if left to chance it could take decades\\u2014if it happens at all the current crisis offers a unique opportunity to build a better future for our healthcare system but we must act quickly blackcoffer insights 46 mayank garg from rukmini devi institute of advanced studiesggsipu rohini delhi tagsaiartificial intelligencebig datablackcoffer previous articlerise of chatbots and its impact on customer support by the year 2040next articlerise of ehealth and its impact on humans by the year 2030 ajay bidyarthy related articlesmore from author ai bot audio to audio efficient supply chain assessment overcoming technical hurdles for web application development streamlined integration interactive brokers api with python for desktop trading application most popular insights big data solution to an online multivendor marketplace ecommerce business january 16 2022 methodology for database discovery tool using openai llma langchain february 27 2024 splitting of songs into its vocals and instrumental september 4 2021 role of big data in healthcare may 26 2017 load more recommended insights streamlined equity waterfall calculation and deal management system etl discovery tool using llma langchain openai an etl solution for currency data to google big query industrial revolution 40 \\u2013 pros and cons latest insights ai bot audio to audio april 3 2024 efficient supply chain assessment overcoming technical hurdles for web application development march 17 2024 streamlined integration interactive brokers api with python for desktop trading application march 17 2024 popular insights ai bot audio to audio april 3 2024 efficient supply chain assessment overcoming technical hurdles for web application development march 17 2024 streamlined integration interactive brokers api with python for desktop trading application march 17 2024 popular insights categoryour success stories197what we think178blackcoffer149it78artificial intelligence53healthcare52big data44lifestyle ecommerce online market place44 about us we provide intelligence accelerate innovation and implement technology with extraordinary breadth and depth global insights into the big datadatadriven dashboards applications development and information management for organizations through combining unique specialist services and highlvel human expertise contact us helloblackcoffercom follow us facebooklinkedintwitteryoutube \\u00a9 all right reserved blackcofferopc pvt ltd our success stories what we do what we think how to schedule demo contact\",\n          \"rise of chatbots and its impact on customer support by the year 2040 blackcoffer insights sign in our success stories banking financials securities and insurance energy entertainment fast moving consumer goods government think tanks healthcare infrastructure real estate it lifestyle ecommerce online market place production manufacturing research academia retail supply chain telecom what we do banking financials securities and insurance energy entertainment fast moving consumer goods government think tanks healthcare hospitality infrastructure real estate it services lifestyle ecommerce online market place news media production manufacturing research academia retail supply chain what we think automobiles components bfsi asset and portfolio banks capital markets derivatives and securities diversified financials finance accounting insurance securities and capital markets capital goods commercial professional services consumer discretionary consumer durables apparel consumer services consumer staples food staples retailing food beverage tobacco household personal products data science analytics artificial intelligence big data business analytics data visualization internet of things machine learning statistics energy dataoil how to analytics application development artificial intelligence business analytics example optimization projects software development source code audit statistics web mobile app development schedule demo contact sign in welcomelog into your account your username your password forgot your password password recovery recover your password your email search sign in welcome log into your account your username your password forgot your password get help password recovery recover your password your email a password will be emailed to you friday may 31 2024 sign in join our success stories what we do what we think how to schedule demo contact facebooklinkedintwitteryoutube our success stories allbanking financials securities and insuranceenergyentertainmentfast moving consumer goodsgovernment think tankshealthcareinfrastructure real estateitlifestyle ecommerce online market placeproduction manufacturingresearch academia our success stories efficient supply chain assessment overcoming technical hurdles for web application development march 17 2024 our success stories streamlined integration interactive brokers api with python for desktop trading application march 17 2024 our success stories efficient data integration and userfriendly interface development navigating challenges in web application deployment march 17 2024 our success stories effective management of social media data extraction strategies for authentication security and reliability march 17 2024 what we do allbanking financials securities and insuranceenergyentertainmentfast moving consumer goodsgovernment think tankshealthcarehospitalityinfrastructure real estateit serviceslifestyle ecommerce online market placenews media what we do ai bot audio to audio april 3 2024 what we do methodology for etl discovery tool using llma openai langchain february 27 2024 what we do methodology for database discovery tool using openai llma langchain february 27 2024 what we do chatbot using voiceflow february 15 2024 what we think allautomobiles componentsbfsiasset and portfoliobankscapital marketsderivatives and securitiesdiversified financialsfinance accountinginsurancesecurities and capital marketscapital goods what we think rising it cities and its impact on the economy environment infrastructure and city life by the year 2040 august 24 2023 what we think rising it cities and their impact on the economy environment infrastructure and city life in future august 18 2023 what we think internet demand\\u2019s evolution communication impact and 2035\\u2019s alternative pathways august 18 2023 what we think rise of cybercrime and its effect in upcoming future august 18 2023 how to allanalyticsapplication developmentartificial intelligencebusiness analyticsexampleoptimizationprojectssoftware developmentsource code auditstatisticsweb mobile app development what we do aiml and predictive modeling february 3 2022 blackcoffer solution for contact centre problems april 26 2021 how to how to setup custom domain for google app engine application february 13 2021 how to code review checklist april 10 2020 schedule demo contact search home blackcoffer rise of chatbots and its impact on customer support by the year blackcofferfutureforecastswhat we think rise of chatbots and its impact on customer support by the year 2040 by ajay bidyarthy january 2 2023 10586 the human race is known to come up with inventions that decide its future many scholars believe that artificial intelligenceai has been the most pioneering innovation since early humans discovered fire and invented the wheel the advancement of groundbreaking technologies such as artificial intelligence and machine learning ml have constantly been shaping the future of humankind the likes of mark zuckerberg have welcomed the evolution of ai he once stated \\u201cwith ai especially i am optimistic\\u201c while according to elon musk \\u201cai can outsmart and endanger us\\u201d however we simply cannot ignore how useful and influential ai is in our daily lives the applications of ai and ml have delved deeply into various domains the least to mention are healthcare transportation education media communication manufacturing and customer service businesses worldwide are placing a significant emphasis on enhancing their customers\\u2019 overall experiences as a result of ai a massive leap in customer experience service has come up with the evolution of chatbots what is a chatbot and how is it useful in business chatbots are aibased systems used by businesses for communication with customers customers can interact with chatbots directly via chat and voice applications numerous online customer service platforms are utilizing chatbots to manage bulk phone calls faqs and other common customer service inquiries chatbots resolve customer queries within no time and are accessible 24x7 enhancing the customer experience the use of technologies such as ai ml and nlp natural language processing enables the bot to analyze and identify the user\\u2019s problems and instantly give the most relevant answers to the queries platforms such as facebook messenger wechat discord and slack have been extensively using chatbots for better communication advantages of using chatbots and their impact on customer support there are numerous advantages of using chatbots in businesses chatbots can communicate with multiple customers at once they can be used to send regular updates about the products and exclusive offers by the company they are available throughout the day which is crucial for businesses that expand globally in different time zones it becomes too cumbersome for businesses to have customer care support centers at various locations across the world there is no human intervention involved therefore chatbots can be accessed worldwide anytime chatbots reply instantly and hence it increases customer engagement chatbots can also be extensively used to collect user data and analyze it further to provide customized solutions mlbased chatbot systems are learning from past conversations to generate more thoughtful replies roughly 40 of internet users around the globe prefer interacting with chatbots rather than virtual agents with leading sectors such as retail and healthcare rapidly turning towards digital technology chatbots will continue to grow in popularity in the years to come chatbot market trends and forecast about its impact on customer support by 2040 according to some reports it is anticipated that the size of the global chatbot market will expand at a compound annual growth rate cagr of approximately 26 from the years 2022 to 2030 in the year 2021 the chatbot market size was valued at a total of usd 525 million it is anticipated that the growing adoption of customer service activities among enterprises to reduce operating costs will be the primary factor driving the chatbot market in the past few years some of the most significant advances that have been made in artificial intelligence and machine learning have been in the areas of perception and cognition although there is much room for improvement in voice recognition technology the tech giants like apple amazon and google have all made significant strides in this direction with their digital assistants siri alexa and google assistant respectively deep learning systems are now actively utilized to decide trades accomplished on wall street and predict whether users will click on particular advertisements it has increased efficiency on both the consumer and the business side of things chatbots can help businesses save money by generating revenue conducting research generating leads and increasing brand awareness other uses for chatbots include research and lead generation given the trends of the data we can expect the chatbot industry to surpass the billiondollar mark in a few years hence by 2040 the chatbot industry would be having a multibillion dollar market value how are companies utilizing chatbots to provide superior support for their customers a comprehensive analysis that provides deep insights into the future of customer service in 2040 bank of america is responsible for creating one of the most groundbreaking innovations the recently introduced \\u201cerica\\u201d is intended to assist customers in making more informed choices regarding their finances customers can make payments check their balances save money and transfer funds with this chatbot which uses artificial intelligence algorithms and predictive messaging erica makes it possible for users to interact via text and voice and it then uses the information provided to push insights to the customer klm royal dutch airlines is another company incorporating chatbots into their customer service channel klm increased the number of customer interactions with the facebook messenger app by forty percent the airline wanted to facilitate more effortless conversations between its employees and passengers without compromising passengers\\u2019 right to personal privacy klm was aware that its customers spent a significant amount of time using facebook and messenger so the company decided to implement a chatbot as its platform for customer service messenger is now the channel through which customers can directly receive booking details boarding passes and flight status updates on a typical day klm receives an average of five messages per minute through facebook messenger during peak traffic that number jumps to over eleven messages per minute these innovations with chatbots will surely pave the way for the future by 2040 chatbots will completely revolutionize the customer experience domain challenges ahead there are apparent constraints with ai technology the absence of emotional intelligence restricts the range and depth of the conversation that can take place when aidriven chatbots are used with customers even though the chatbots can learn from and predict the behavior of the customers the availability of trained staff and their familiarity with this developing technology is another factor that can hinder the effectiveness of chatbots chatbots can have significant limitations when it comes to different languages and accents this restriction turns into a significant obstacle for companies that operate in more than one location maintaining the security of the customer\\u2019s data is also a key challenge conclusion even though chatbot technology has some limitations in how it can function there are innumerable advantages of using this technology in improving customer support the chatbot technology is potent enough to enhance customer support multifolds by 2040 the optimistic thing about this technology is that mlbased systems can learn from their own experiences and improve with time hence there is a high chance that chatbot technology is perhaps \\u201cthe next big thing\\u201d in the customer service domain blackcoffer insights 46 faizan raza btech from iit delhi tagsaichat and voicecommunicationcustomer serviceeducationhealthcaremachine learningmanufacturingmediamltransportation previous articleranking customer behaviours for business strategynext articlerise of telemedicine and its impact on livelihood by 2040 ajay bidyarthy related articlesmore from author ai bot audio to audio efficient supply chain assessment overcoming technical hurdles for web application development streamlined integration interactive brokers api with python for desktop trading application most popular insights advanced ai for handgun detection july 21 2023 how to access amazon seller central or vendor central data in march 3 2021 aws quicksight reporting dashboard january 16 2022 an etl solution for an internet publishing firm july 26 2023 load more recommended insights how does metaverse work in the financial sector ai bot audio to audio how to access amazon seller central or vendor central data in transforming insurance claim processing with automation artificial intelligence latest insights ai bot audio to audio april 3 2024 efficient supply chain assessment overcoming technical hurdles for web application development march 17 2024 streamlined integration interactive brokers api with python for desktop trading application march 17 2024 popular insights ai bot audio to audio april 3 2024 efficient supply chain assessment overcoming technical hurdles for web application development march 17 2024 streamlined integration interactive brokers api with python for desktop trading application march 17 2024 popular insights categoryour success stories197what we think178blackcoffer149it78artificial intelligence53healthcare52big data44lifestyle ecommerce online market place44 about us we provide intelligence accelerate innovation and implement technology with extraordinary breadth and depth global insights into the big datadatadriven dashboards applications development and information management for organizations through combining unique specialist services and highlvel human expertise contact us helloblackcoffercom follow us facebooklinkedintwitteryoutube \\u00a9 all right reserved blackcofferopc pvt ltd our success stories what we do what we think how to schedule demo contact\"\n        ],\n        \"semantic_type\": \"\",\n        \"description\": \"\"\n      }\n    }\n  ]\n}"
            }
          },
          "metadata": {},
          "execution_count": 40
        }
      ]
    },
    {
      "cell_type": "code",
      "source": [
        "#importing master Dictionary\n",
        "positive=pd.read_csv(\"/content/drive/MyDrive/imp/20211030 Test Assignment/MasterDictionary/positive-words.csv\",header=None)\n",
        "negative=pd.read_csv(\"/content/drive/MyDrive/imp/20211030 Test Assignment/MasterDictionary/negative-words.csv\",header=None,encoding=\"ISO-8859-1\",sep='\\t' ) #remove sep='\\n' and add sep='\\t'\n",
        "\n",
        ""
      ],
      "metadata": {
        "id": "RNkdNfZ5T-se"
      },
      "execution_count": 46,
      "outputs": []
    },
    {
      "cell_type": "code",
      "source": [
        "positive.columns=['abc']\n",
        "negative.columns=['abc']\n",
        "positive['abc']=positive['abc'].astype(str)\n",
        "negative['abc']=negative['abc'].astype(str)\n",
        ""
      ],
      "metadata": {
        "id": "nQMLPFIwT-x1"
      },
      "execution_count": 47,
      "outputs": []
    },
    {
      "cell_type": "code",
      "source": [
        "#positive and negative dictionary without stopwords\n",
        "positive['abc']=positive['abc'].apply(text_process)\n",
        "negative['abc']=negative['abc'].apply(text_process)"
      ],
      "metadata": {
        "id": "xrof8-yoT-0U"
      },
      "execution_count": 48,
      "outputs": []
    },
    {
      "cell_type": "code",
      "source": [
        "#positive and negative dictionary without stopwords\n",
        "positive['abc']=positive['abc'].apply(text_process)\n",
        "negative['abc']=negative['abc'].apply(text_process)"
      ],
      "metadata": {
        "id": "eE5cyP-uT-3l"
      },
      "execution_count": 49,
      "outputs": []
    },
    {
      "cell_type": "code",
      "source": [
        "#positive list\n",
        "length=positive.shape[0]\n",
        "post=[]\n",
        "for i in range(0,length):\n",
        "   nopunc =[char for char in positive.iloc[i] if char not in string.punctuation or char != '+']\n",
        "   nopunc=''.join(nopunc)\n",
        "\n",
        "   post.append(nopunc)"
      ],
      "metadata": {
        "id": "myS8L1T1WTs6"
      },
      "execution_count": 50,
      "outputs": []
    },
    {
      "cell_type": "code",
      "source": [
        "#negative list\n",
        "length=negative.shape[0]\n",
        "neg=[]\n",
        "for i in range(0,length):\n",
        "  nopunc =[char for char in negative.iloc[i] if char not in string.punctuation or char != '+']\n",
        "  nopunc=''.join(nopunc)\n",
        "  neg.append(nopunc)"
      ],
      "metadata": {
        "id": "VCh5y6hHWTvq"
      },
      "execution_count": 52,
      "outputs": []
    },
    {
      "cell_type": "code",
      "source": [
        "#importing tokenize library\n",
        "from nltk.tokenize import word_tokenize"
      ],
      "metadata": {
        "id": "5dSOeLCOWTyb"
      },
      "execution_count": 53,
      "outputs": []
    },
    {
      "cell_type": "code",
      "source": [
        "txt_list=[]\n",
        "length=c.shape[0]\n",
        "for i in range(0,length):\n",
        "  txt=' '.join([word for word in c.iloc[i]])\n",
        "  txt_list.append(txt)"
      ],
      "metadata": {
        "id": "gSA6SRNAWT0r"
      },
      "execution_count": 54,
      "outputs": []
    },
    {
      "cell_type": "code",
      "source": [
        "#tokenization of text\n",
        "tokenize_text=[]\n",
        "for i in txt_list:\n",
        "\n",
        "  tokenize_text+=(word_tokenize(i))"
      ],
      "metadata": {
        "id": "hFzaEU5ZWT3Y"
      },
      "execution_count": 55,
      "outputs": []
    },
    {
      "cell_type": "code",
      "source": [
        "print(tokenize_text)"
      ],
      "metadata": {
        "colab": {
          "base_uri": "https://localhost:8080/"
        },
        "id": "dJpXeoRQWT6E",
        "outputId": "50fc3afb-e4c3-4706-9d10-9d53cb2c2836"
      },
      "execution_count": 60,
      "outputs": [
        {
          "output_type": "stream",
          "name": "stderr",
          "text": [
            "IOPub data rate exceeded.\n",
            "The notebook server will temporarily stop sending output\n",
            "to the client in order to avoid crashing it.\n",
            "To change this limit, set the config variable\n",
            "`--NotebookApp.iopub_data_rate_limit`.\n",
            "\n",
            "Current values:\n",
            "NotebookApp.iopub_data_rate_limit=1000000.0 (bytes/sec)\n",
            "NotebookApp.rate_limit_window=3.0 (secs)\n",
            "\n"
          ]
        }
      ]
    },
    {
      "cell_type": "code",
      "source": [
        "\n",
        "len(tokenize_text)"
      ],
      "metadata": {
        "colab": {
          "base_uri": "https://localhost:8080/"
        },
        "id": "dzGwxUrqWT_H",
        "outputId": "5fb04723-7da3-4ca8-fb09-670d76c79ed3"
      },
      "execution_count": 61,
      "outputs": [
        {
          "output_type": "execute_result",
          "data": {
            "text/plain": [
              "414910"
            ]
          },
          "metadata": {},
          "execution_count": 61
        }
      ]
    },
    {
      "cell_type": "code",
      "source": [
        "positive_score=0\n",
        "for i in tokenize_text:\n",
        "  if(i.lower() in post):\n",
        "    positive_score+=1\n",
        "print('postive score=', positive_score)"
      ],
      "metadata": {
        "colab": {
          "base_uri": "https://localhost:8080/"
        },
        "id": "fjke5C_tWUBo",
        "outputId": "cb60f569-f94b-4e2c-d15d-e2c14be426ba"
      },
      "execution_count": 62,
      "outputs": [
        {
          "output_type": "stream",
          "name": "stdout",
          "text": [
            "postive score= 15992\n"
          ]
        }
      ]
    },
    {
      "cell_type": "code",
      "source": [
        "negative_score=0\n",
        "for i in tokenize_text:\n",
        "  if(i.lower() in neg):\n",
        "    negative_score+=1\n",
        "print('negative score=', negative_score)\n"
      ],
      "metadata": {
        "colab": {
          "base_uri": "https://localhost:8080/"
        },
        "id": "POd62ourWUEg",
        "outputId": "12e5779f-464c-4f14-da24-b6bea8fba31a"
      },
      "execution_count": 63,
      "outputs": [
        {
          "output_type": "stream",
          "name": "stdout",
          "text": [
            "negative score= 6293\n"
          ]
        }
      ]
    },
    {
      "cell_type": "code",
      "source": [
        "#Polarity Score = (Positive Score – Negative Score)/ ((Positive Score + Negative Score) + 0.000001)\n",
        "Polarity_Score=(positive_score-negative_score)/((positive_score+negative_score)+0.000001)\n",
        "print('polarity_score=', Polarity_Score)"
      ],
      "metadata": {
        "colab": {
          "base_uri": "https://localhost:8080/"
        },
        "id": "qjwUPfwkWUGX",
        "outputId": "4746127e-e7c5-4cae-c59a-2439a1077251"
      },
      "execution_count": 64,
      "outputs": [
        {
          "output_type": "stream",
          "name": "stdout",
          "text": [
            "polarity_score= 0.43522548797688015\n"
          ]
        }
      ]
    },
    {
      "cell_type": "code",
      "source": [
        "#Subjectivity Score = (Positive Score + Negative Score)/ ((Total Words after cleaning) + 0.000001)\n",
        "subjectiivity_score=(positive_score-negative_score)/((len(tokenize_text))+ 0.000001)\n",
        "print('subjectivity_score',subjectiivity_score)"
      ],
      "metadata": {
        "colab": {
          "base_uri": "https://localhost:8080/"
        },
        "id": "AFpHQBsZWUJu",
        "outputId": "079fce52-02fa-4488-ccc3-921934b04b1b"
      },
      "execution_count": 65,
      "outputs": [
        {
          "output_type": "stream",
          "name": "stdout",
          "text": [
            "subjectivity_score 0.023376153864637206\n"
          ]
        }
      ]
    },
    {
      "cell_type": "code",
      "source": [
        "length=c.shape[0]\n",
        "avg_length=[]\n",
        "for i in range(0,length):\n",
        "  avg_length.append(len(c['abc'].iloc[i]))\n",
        "avg_senetence_length=sum(avg_length)/len(avg_length)\n",
        "print('avg sentence length=', avg_senetence_length)"
      ],
      "metadata": {
        "colab": {
          "base_uri": "https://localhost:8080/"
        },
        "id": "8b5fH7NwaH2u",
        "outputId": "e019d209-d51a-47ab-d327-f382e435ee28"
      },
      "execution_count": 66,
      "outputs": [
        {
          "output_type": "stream",
          "name": "stdout",
          "text": [
            "avg sentence length= 13887.58\n"
          ]
        }
      ]
    },
    {
      "cell_type": "code",
      "source": [
        "vowels=['a','e','i','o','u']\n",
        "import re\n",
        "count=0\n",
        "complex_Word_Count=0\n",
        "for i in tokenize_text:\n",
        "  x=re.compile('[es|ed]$')\n",
        "  if x.match(i.lower()):\n",
        "   count+=0\n",
        "  else:\n",
        "    for j in i:\n",
        "      if(j.lower() in vowels ):\n",
        "        count+=1\n",
        "  if(count>2):\n",
        "   complex_Word_Count+=1\n",
        "  count=0"
      ],
      "metadata": {
        "id": "_yVnVP9SaH5s"
      },
      "execution_count": 67,
      "outputs": []
    },
    {
      "cell_type": "code",
      "source": [
        "Percentage_of_Complex_words=complex_Word_Count/len(tokenize_text)\n",
        "print('percentag of complex words= ',Percentage_of_Complex_words)"
      ],
      "metadata": {
        "colab": {
          "base_uri": "https://localhost:8080/"
        },
        "id": "4t5NI55NaH8V",
        "outputId": "ad0a890e-1134-42eb-a796-693bc07ca3c5"
      },
      "execution_count": 68,
      "outputs": [
        {
          "output_type": "stream",
          "name": "stdout",
          "text": [
            "percentag of complex words=  0.3301125545298981\n"
          ]
        }
      ]
    },
    {
      "cell_type": "code",
      "source": [
        "#Fog Index = 0.4 * (Average Sentence Length + Percentage of Complex words)\n",
        "Fog_Index = 0.4 * (avg_senetence_length + Percentage_of_Complex_words)\n",
        "print('fog index= ',Fog_Index )"
      ],
      "metadata": {
        "colab": {
          "base_uri": "https://localhost:8080/"
        },
        "id": "krz_icrdaH-2",
        "outputId": "52ab5696-46d7-47b0-cf8e-e8057b6baf46"
      },
      "execution_count": 69,
      "outputs": [
        {
          "output_type": "stream",
          "name": "stdout",
          "text": [
            "fog index=  5555.164045021812\n"
          ]
        }
      ]
    },
    {
      "cell_type": "code",
      "source": [
        "length=c.shape[0]\n",
        "avg_length=[]\n",
        "for i in range(0,length):\n",
        "  a=[word.split( ) for word in c.iloc[i]]\n",
        "  avg_length.append(len(a[0]))\n",
        "  a=0\n",
        "#avg\n",
        "avg_no_of_words_per_sentence=sum(avg_length)/length\n",
        "print(\"avg no of words per sentence= \",avg_no_of_words_per_sentence)\n",
        ""
      ],
      "metadata": {
        "colab": {
          "base_uri": "https://localhost:8080/"
        },
        "id": "68leQzipaIA-",
        "outputId": "1bc78d8f-1b41-4eb5-cd30-8cef616071c2"
      },
      "execution_count": 70,
      "outputs": [
        {
          "output_type": "stream",
          "name": "stdout",
          "text": [
            "avg no of words per sentence=  2046.545\n"
          ]
        }
      ]
    },
    {
      "cell_type": "code",
      "source": [
        "vowels=['a','e','i','o','u']\n",
        "import re\n",
        "count=0\n",
        "complex_Word_Count=0\n",
        "for i in tokenize_text:\n",
        "  x=re.compile('[es|ed]$')\n",
        "  if x.match(i.lower()):\n",
        "   count+=0\n",
        "  else:\n",
        "    for j in i:\n",
        "      if(j.lower() in vowels ):\n",
        "        count+=1\n",
        "  if(count>2):\n",
        "   complex_Word_Count+=1\n",
        "  count=0\n",
        "print('complex words count=',  complex_Word_Count)\n",
        ""
      ],
      "metadata": {
        "colab": {
          "base_uri": "https://localhost:8080/"
        },
        "id": "csxhrqIYaIDS",
        "outputId": "1e340911-ab92-43ec-db4b-dd2766ab15ee"
      },
      "execution_count": 71,
      "outputs": [
        {
          "output_type": "stream",
          "name": "stdout",
          "text": [
            "complex words count= 136967\n"
          ]
        }
      ]
    },
    {
      "cell_type": "code",
      "source": [
        "word_count=len(tokenize_text)\n",
        "print('word count= ', word_count)"
      ],
      "metadata": {
        "colab": {
          "base_uri": "https://localhost:8080/"
        },
        "id": "-Qf6A8JMaIFp",
        "outputId": "f35a5fdc-e536-4bdd-dd98-aef12b178088"
      },
      "execution_count": 72,
      "outputs": [
        {
          "output_type": "stream",
          "name": "stdout",
          "text": [
            "word count=  414910\n"
          ]
        }
      ]
    },
    {
      "cell_type": "code",
      "source": [
        "vowels=['a','e','i','o','u']\n",
        "import re\n",
        "count=0\n",
        "for i in tokenize_text:\n",
        "  x=re.compile('[es|ed]$')\n",
        "  if x.match(i.lower()):\n",
        "   count+=0\n",
        "  else:\n",
        "    for j in i:\n",
        "      if(j.lower() in vowels ):\n",
        "        count+=1\n",
        "syllable_count=count\n",
        "print('syllable_per_word= ',syllable_count)"
      ],
      "metadata": {
        "colab": {
          "base_uri": "https://localhost:8080/"
        },
        "id": "25J2E8xyaivT",
        "outputId": "29afe0a9-4ca8-4093-e0e3-b87979931eb0"
      },
      "execution_count": 73,
      "outputs": [
        {
          "output_type": "stream",
          "name": "stdout",
          "text": [
            "syllable_per_word=  895923\n"
          ]
        }
      ]
    },
    {
      "cell_type": "code",
      "source": [
        "pronouns=['i','we','my','ours','us' ]\n",
        "import re\n",
        "count=0\n",
        "for i in tokenize_text:\n",
        "  if i.lower() in pronouns:\n",
        "   count+=1\n",
        "personal_pronouns=count\n",
        "print('personal pronouns= ',personal_pronouns )"
      ],
      "metadata": {
        "colab": {
          "base_uri": "https://localhost:8080/"
        },
        "id": "fuT__iCDaix7",
        "outputId": "72e54e06-44dd-4b25-b97c-366ac70af612"
      },
      "execution_count": 74,
      "outputs": [
        {
          "output_type": "stream",
          "name": "stdout",
          "text": [
            "personal pronouns=  6183\n"
          ]
        }
      ]
    },
    {
      "cell_type": "code",
      "source": [
        "count=0\n",
        "for i in tokenize_text:\n",
        "  for j in i:\n",
        "    count+=1\n",
        "avg_word_length=count/len(tokenize_text)\n",
        "print('avg word= ', avg_word_length)"
      ],
      "metadata": {
        "colab": {
          "base_uri": "https://localhost:8080/"
        },
        "id": "DXz2Mi_Wai0Y",
        "outputId": "a36f528f-f602-42ba-9a31-129816d03b3a"
      },
      "execution_count": 75,
      "outputs": [
        {
          "output_type": "stream",
          "name": "stdout",
          "text": [
            "avg word=  5.708242751440071\n"
          ]
        }
      ]
    },
    {
      "cell_type": "code",
      "source": [
        "data={'positive_score':positive_score,'negative_score':negative_score,'Polarity_Score':Polarity_Score,'subjectiivity_score':subjectiivity_score,'avg_senetence_length':avg_senetence_length,'Percentage_of_Complex_words':Percentage_of_Complex_words,'Fog_Index':Fog_Index,'avg_no_of_words_per_sentence':avg_no_of_words_per_sentence,'complex_Word_Count':complex_Word_Count,'word_count':word_count,'syllable_count':syllable_count,'personal_pronouns':personal_pronouns,'avg_word_length':avg_word_length}\n",
        ""
      ],
      "metadata": {
        "id": "wTtxh_oeai2z"
      },
      "execution_count": 76,
      "outputs": []
    },
    {
      "cell_type": "markdown",
      "source": [
        " OUTPUT"
      ],
      "metadata": {
        "id": "U9aoTFSW-UKP"
      }
    },
    {
      "cell_type": "code",
      "source": [
        "\n",
        "output=pd.DataFrame() # Create the output dataframe here\n",
        "output = pd.concat([output, pd.DataFrame([data])], ignore_index=True) # Use concat instead of append\n",
        "#output.columns=['positive_score','negative_score','Polarity_Score','subjectiivity_score','avg_senetence_length','Percentage_of_Complex_words','Fog_Index','avg_no_of_words_per_sentence','complex_Word_Count','word_count','syllable_count','personal_pronouns','avg_word_length']\n",
        "output"
      ],
      "metadata": {
        "colab": {
          "base_uri": "https://localhost:8080/",
          "height": 109
        },
        "id": "UrAnkLZZbmID",
        "outputId": "641c2b8d-e3db-4435-9abf-15edfcd010a9"
      },
      "execution_count": 82,
      "outputs": [
        {
          "output_type": "execute_result",
          "data": {
            "text/plain": [
              "   positive_score  negative_score  Polarity_Score  subjectiivity_score  \\\n",
              "0           15992            6293        0.435225             0.023376   \n",
              "\n",
              "   avg_senetence_length  Percentage_of_Complex_words    Fog_Index  \\\n",
              "0              13887.58                     0.330113  5555.164045   \n",
              "\n",
              "   avg_no_of_words_per_sentence  complex_Word_Count  word_count  \\\n",
              "0                      2046.545              136967      414910   \n",
              "\n",
              "   syllable_count  personal_pronouns  avg_word_length  \n",
              "0          895923               6183         5.708243  "
            ],
            "text/html": [
              "\n",
              "  <div id=\"df-511d0eff-6948-4146-9c88-8408e9a305b5\" class=\"colab-df-container\">\n",
              "    <div>\n",
              "<style scoped>\n",
              "    .dataframe tbody tr th:only-of-type {\n",
              "        vertical-align: middle;\n",
              "    }\n",
              "\n",
              "    .dataframe tbody tr th {\n",
              "        vertical-align: top;\n",
              "    }\n",
              "\n",
              "    .dataframe thead th {\n",
              "        text-align: right;\n",
              "    }\n",
              "</style>\n",
              "<table border=\"1\" class=\"dataframe\">\n",
              "  <thead>\n",
              "    <tr style=\"text-align: right;\">\n",
              "      <th></th>\n",
              "      <th>positive_score</th>\n",
              "      <th>negative_score</th>\n",
              "      <th>Polarity_Score</th>\n",
              "      <th>subjectiivity_score</th>\n",
              "      <th>avg_senetence_length</th>\n",
              "      <th>Percentage_of_Complex_words</th>\n",
              "      <th>Fog_Index</th>\n",
              "      <th>avg_no_of_words_per_sentence</th>\n",
              "      <th>complex_Word_Count</th>\n",
              "      <th>word_count</th>\n",
              "      <th>syllable_count</th>\n",
              "      <th>personal_pronouns</th>\n",
              "      <th>avg_word_length</th>\n",
              "    </tr>\n",
              "  </thead>\n",
              "  <tbody>\n",
              "    <tr>\n",
              "      <th>0</th>\n",
              "      <td>15992</td>\n",
              "      <td>6293</td>\n",
              "      <td>0.435225</td>\n",
              "      <td>0.023376</td>\n",
              "      <td>13887.58</td>\n",
              "      <td>0.330113</td>\n",
              "      <td>5555.164045</td>\n",
              "      <td>2046.545</td>\n",
              "      <td>136967</td>\n",
              "      <td>414910</td>\n",
              "      <td>895923</td>\n",
              "      <td>6183</td>\n",
              "      <td>5.708243</td>\n",
              "    </tr>\n",
              "  </tbody>\n",
              "</table>\n",
              "</div>\n",
              "    <div class=\"colab-df-buttons\">\n",
              "\n",
              "  <div class=\"colab-df-container\">\n",
              "    <button class=\"colab-df-convert\" onclick=\"convertToInteractive('df-511d0eff-6948-4146-9c88-8408e9a305b5')\"\n",
              "            title=\"Convert this dataframe to an interactive table.\"\n",
              "            style=\"display:none;\">\n",
              "\n",
              "  <svg xmlns=\"http://www.w3.org/2000/svg\" height=\"24px\" viewBox=\"0 -960 960 960\">\n",
              "    <path d=\"M120-120v-720h720v720H120Zm60-500h600v-160H180v160Zm220 220h160v-160H400v160Zm0 220h160v-160H400v160ZM180-400h160v-160H180v160Zm440 0h160v-160H620v160ZM180-180h160v-160H180v160Zm440 0h160v-160H620v160Z\"/>\n",
              "  </svg>\n",
              "    </button>\n",
              "\n",
              "  <style>\n",
              "    .colab-df-container {\n",
              "      display:flex;\n",
              "      gap: 12px;\n",
              "    }\n",
              "\n",
              "    .colab-df-convert {\n",
              "      background-color: #E8F0FE;\n",
              "      border: none;\n",
              "      border-radius: 50%;\n",
              "      cursor: pointer;\n",
              "      display: none;\n",
              "      fill: #1967D2;\n",
              "      height: 32px;\n",
              "      padding: 0 0 0 0;\n",
              "      width: 32px;\n",
              "    }\n",
              "\n",
              "    .colab-df-convert:hover {\n",
              "      background-color: #E2EBFA;\n",
              "      box-shadow: 0px 1px 2px rgba(60, 64, 67, 0.3), 0px 1px 3px 1px rgba(60, 64, 67, 0.15);\n",
              "      fill: #174EA6;\n",
              "    }\n",
              "\n",
              "    .colab-df-buttons div {\n",
              "      margin-bottom: 4px;\n",
              "    }\n",
              "\n",
              "    [theme=dark] .colab-df-convert {\n",
              "      background-color: #3B4455;\n",
              "      fill: #D2E3FC;\n",
              "    }\n",
              "\n",
              "    [theme=dark] .colab-df-convert:hover {\n",
              "      background-color: #434B5C;\n",
              "      box-shadow: 0px 1px 3px 1px rgba(0, 0, 0, 0.15);\n",
              "      filter: drop-shadow(0px 1px 2px rgba(0, 0, 0, 0.3));\n",
              "      fill: #FFFFFF;\n",
              "    }\n",
              "  </style>\n",
              "\n",
              "    <script>\n",
              "      const buttonEl =\n",
              "        document.querySelector('#df-511d0eff-6948-4146-9c88-8408e9a305b5 button.colab-df-convert');\n",
              "      buttonEl.style.display =\n",
              "        google.colab.kernel.accessAllowed ? 'block' : 'none';\n",
              "\n",
              "      async function convertToInteractive(key) {\n",
              "        const element = document.querySelector('#df-511d0eff-6948-4146-9c88-8408e9a305b5');\n",
              "        const dataTable =\n",
              "          await google.colab.kernel.invokeFunction('convertToInteractive',\n",
              "                                                    [key], {});\n",
              "        if (!dataTable) return;\n",
              "\n",
              "        const docLinkHtml = 'Like what you see? Visit the ' +\n",
              "          '<a target=\"_blank\" href=https://colab.research.google.com/notebooks/data_table.ipynb>data table notebook</a>'\n",
              "          + ' to learn more about interactive tables.';\n",
              "        element.innerHTML = '';\n",
              "        dataTable['output_type'] = 'display_data';\n",
              "        await google.colab.output.renderOutput(dataTable, element);\n",
              "        const docLink = document.createElement('div');\n",
              "        docLink.innerHTML = docLinkHtml;\n",
              "        element.appendChild(docLink);\n",
              "      }\n",
              "    </script>\n",
              "  </div>\n",
              "\n",
              "\n",
              "  <div id=\"id_16e45635-82e0-4374-9a8a-bb08e02d859f\">\n",
              "    <style>\n",
              "      .colab-df-generate {\n",
              "        background-color: #E8F0FE;\n",
              "        border: none;\n",
              "        border-radius: 50%;\n",
              "        cursor: pointer;\n",
              "        display: none;\n",
              "        fill: #1967D2;\n",
              "        height: 32px;\n",
              "        padding: 0 0 0 0;\n",
              "        width: 32px;\n",
              "      }\n",
              "\n",
              "      .colab-df-generate:hover {\n",
              "        background-color: #E2EBFA;\n",
              "        box-shadow: 0px 1px 2px rgba(60, 64, 67, 0.3), 0px 1px 3px 1px rgba(60, 64, 67, 0.15);\n",
              "        fill: #174EA6;\n",
              "      }\n",
              "\n",
              "      [theme=dark] .colab-df-generate {\n",
              "        background-color: #3B4455;\n",
              "        fill: #D2E3FC;\n",
              "      }\n",
              "\n",
              "      [theme=dark] .colab-df-generate:hover {\n",
              "        background-color: #434B5C;\n",
              "        box-shadow: 0px 1px 3px 1px rgba(0, 0, 0, 0.15);\n",
              "        filter: drop-shadow(0px 1px 2px rgba(0, 0, 0, 0.3));\n",
              "        fill: #FFFFFF;\n",
              "      }\n",
              "    </style>\n",
              "    <button class=\"colab-df-generate\" onclick=\"generateWithVariable('output')\"\n",
              "            title=\"Generate code using this dataframe.\"\n",
              "            style=\"display:none;\">\n",
              "\n",
              "  <svg xmlns=\"http://www.w3.org/2000/svg\" height=\"24px\"viewBox=\"0 0 24 24\"\n",
              "       width=\"24px\">\n",
              "    <path d=\"M7,19H8.4L18.45,9,17,7.55,7,17.6ZM5,21V16.75L18.45,3.32a2,2,0,0,1,2.83,0l1.4,1.43a1.91,1.91,0,0,1,.58,1.4,1.91,1.91,0,0,1-.58,1.4L9.25,21ZM18.45,9,17,7.55Zm-12,3A5.31,5.31,0,0,0,4.9,8.1,5.31,5.31,0,0,0,1,6.5,5.31,5.31,0,0,0,4.9,4.9,5.31,5.31,0,0,0,6.5,1,5.31,5.31,0,0,0,8.1,4.9,5.31,5.31,0,0,0,12,6.5,5.46,5.46,0,0,0,6.5,12Z\"/>\n",
              "  </svg>\n",
              "    </button>\n",
              "    <script>\n",
              "      (() => {\n",
              "      const buttonEl =\n",
              "        document.querySelector('#id_16e45635-82e0-4374-9a8a-bb08e02d859f button.colab-df-generate');\n",
              "      buttonEl.style.display =\n",
              "        google.colab.kernel.accessAllowed ? 'block' : 'none';\n",
              "\n",
              "      buttonEl.onclick = () => {\n",
              "        google.colab.notebook.generateWithVariable('output');\n",
              "      }\n",
              "      })();\n",
              "    </script>\n",
              "  </div>\n",
              "\n",
              "    </div>\n",
              "  </div>\n"
            ],
            "application/vnd.google.colaboratory.intrinsic+json": {
              "type": "dataframe",
              "variable_name": "output",
              "summary": "{\n  \"name\": \"output\",\n  \"rows\": 1,\n  \"fields\": [\n    {\n      \"column\": \"positive_score\",\n      \"properties\": {\n        \"dtype\": \"number\",\n        \"std\": null,\n        \"min\": 15992,\n        \"max\": 15992,\n        \"num_unique_values\": 1,\n        \"samples\": [\n          15992\n        ],\n        \"semantic_type\": \"\",\n        \"description\": \"\"\n      }\n    },\n    {\n      \"column\": \"negative_score\",\n      \"properties\": {\n        \"dtype\": \"number\",\n        \"std\": null,\n        \"min\": 6293,\n        \"max\": 6293,\n        \"num_unique_values\": 1,\n        \"samples\": [\n          6293\n        ],\n        \"semantic_type\": \"\",\n        \"description\": \"\"\n      }\n    },\n    {\n      \"column\": \"Polarity_Score\",\n      \"properties\": {\n        \"dtype\": \"number\",\n        \"std\": null,\n        \"min\": 0.43522548797688015,\n        \"max\": 0.43522548797688015,\n        \"num_unique_values\": 1,\n        \"samples\": [\n          0.43522548797688015\n        ],\n        \"semantic_type\": \"\",\n        \"description\": \"\"\n      }\n    },\n    {\n      \"column\": \"subjectiivity_score\",\n      \"properties\": {\n        \"dtype\": \"number\",\n        \"std\": null,\n        \"min\": 0.023376153864637206,\n        \"max\": 0.023376153864637206,\n        \"num_unique_values\": 1,\n        \"samples\": [\n          0.023376153864637206\n        ],\n        \"semantic_type\": \"\",\n        \"description\": \"\"\n      }\n    },\n    {\n      \"column\": \"avg_senetence_length\",\n      \"properties\": {\n        \"dtype\": \"number\",\n        \"std\": null,\n        \"min\": 13887.58,\n        \"max\": 13887.58,\n        \"num_unique_values\": 1,\n        \"samples\": [\n          13887.58\n        ],\n        \"semantic_type\": \"\",\n        \"description\": \"\"\n      }\n    },\n    {\n      \"column\": \"Percentage_of_Complex_words\",\n      \"properties\": {\n        \"dtype\": \"number\",\n        \"std\": null,\n        \"min\": 0.3301125545298981,\n        \"max\": 0.3301125545298981,\n        \"num_unique_values\": 1,\n        \"samples\": [\n          0.3301125545298981\n        ],\n        \"semantic_type\": \"\",\n        \"description\": \"\"\n      }\n    },\n    {\n      \"column\": \"Fog_Index\",\n      \"properties\": {\n        \"dtype\": \"number\",\n        \"std\": null,\n        \"min\": 5555.164045021812,\n        \"max\": 5555.164045021812,\n        \"num_unique_values\": 1,\n        \"samples\": [\n          5555.164045021812\n        ],\n        \"semantic_type\": \"\",\n        \"description\": \"\"\n      }\n    },\n    {\n      \"column\": \"avg_no_of_words_per_sentence\",\n      \"properties\": {\n        \"dtype\": \"number\",\n        \"std\": null,\n        \"min\": 2046.545,\n        \"max\": 2046.545,\n        \"num_unique_values\": 1,\n        \"samples\": [\n          2046.545\n        ],\n        \"semantic_type\": \"\",\n        \"description\": \"\"\n      }\n    },\n    {\n      \"column\": \"complex_Word_Count\",\n      \"properties\": {\n        \"dtype\": \"number\",\n        \"std\": null,\n        \"min\": 136967,\n        \"max\": 136967,\n        \"num_unique_values\": 1,\n        \"samples\": [\n          136967\n        ],\n        \"semantic_type\": \"\",\n        \"description\": \"\"\n      }\n    },\n    {\n      \"column\": \"word_count\",\n      \"properties\": {\n        \"dtype\": \"number\",\n        \"std\": null,\n        \"min\": 414910,\n        \"max\": 414910,\n        \"num_unique_values\": 1,\n        \"samples\": [\n          414910\n        ],\n        \"semantic_type\": \"\",\n        \"description\": \"\"\n      }\n    },\n    {\n      \"column\": \"syllable_count\",\n      \"properties\": {\n        \"dtype\": \"number\",\n        \"std\": null,\n        \"min\": 895923,\n        \"max\": 895923,\n        \"num_unique_values\": 1,\n        \"samples\": [\n          895923\n        ],\n        \"semantic_type\": \"\",\n        \"description\": \"\"\n      }\n    },\n    {\n      \"column\": \"personal_pronouns\",\n      \"properties\": {\n        \"dtype\": \"number\",\n        \"std\": null,\n        \"min\": 6183,\n        \"max\": 6183,\n        \"num_unique_values\": 1,\n        \"samples\": [\n          6183\n        ],\n        \"semantic_type\": \"\",\n        \"description\": \"\"\n      }\n    },\n    {\n      \"column\": \"avg_word_length\",\n      \"properties\": {\n        \"dtype\": \"number\",\n        \"std\": null,\n        \"min\": 5.708242751440071,\n        \"max\": 5.708242751440071,\n        \"num_unique_values\": 1,\n        \"samples\": [\n          5.708242751440071\n        ],\n        \"semantic_type\": \"\",\n        \"description\": \"\"\n      }\n    }\n  ]\n}"
            }
          },
          "metadata": {},
          "execution_count": 82
        }
      ]
    }
  ]
}